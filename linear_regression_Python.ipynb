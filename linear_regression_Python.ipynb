{
  "nbformat": 4,
  "nbformat_minor": 0,
  "metadata": {
    "colab": {
      "name": "linear_regression_Python.ipynb",
      "provenance": [],
      "collapsed_sections": [],
      "authorship_tag": "ABX9TyP9bD4rgBiyikCxUi/BpXGI",
      "include_colab_link": true
    },
    "kernelspec": {
      "name": "python3",
      "display_name": "Python 3"
    },
    "language_info": {
      "name": "python"
    }
  },
  "cells": [
    {
      "cell_type": "markdown",
      "metadata": {
        "id": "view-in-github",
        "colab_type": "text"
      },
      "source": [
        "<a href=\"https://colab.research.google.com/github/bforoura/IDS/blob/main/linear_regression_Python.ipynb\" target=\"_parent\"><img src=\"https://colab.research.google.com/assets/colab-badge.svg\" alt=\"Open In Colab\"/></a>"
      ]
    },
    {
      "cell_type": "markdown",
      "metadata": {
        "id": "ByEswxCC3Xzg"
      },
      "source": [
        "# **Supervised Learning: Linear Regression**"
      ]
    },
    {
      "cell_type": "code",
      "metadata": {
        "id": "VUZdp7cLzOdS"
      },
      "source": [
        "import pandas as pd\n",
        "import matplotlib.pyplot as plt \n",
        "import seaborn as sns\n",
        "\n",
        "# Company_data contains mounts spent on different types of advertisements and the resulting Sales\n",
        "companyDF = pd.read_csv('https://raw.githubusercontent.com/bforoura/AML/master/Company_data.csv')\n",
        "\n"
      ],
      "execution_count": null,
      "outputs": []
    },
    {
      "cell_type": "code",
      "metadata": {
        "id": "hv-2XLKJ1J9g",
        "colab": {
          "base_uri": "https://localhost:8080/",
          "height": 363
        },
        "outputId": "ee99e672-c08b-46a5-e576-1486022b4c61"
      },
      "source": [
        "#pd.set_option('display.max_rows', None)\n",
        "\n",
        "companyDF.head(10)\n",
        "\n",
        "\n"
      ],
      "execution_count": null,
      "outputs": [
        {
          "output_type": "execute_result",
          "data": {
            "text/plain": [
              "      TV  Radio  Newspaper  Sales\n",
              "0  230.1   37.8       69.2   22.1\n",
              "1   44.5   39.3       45.1   10.4\n",
              "2   17.2   45.9       69.3   12.0\n",
              "3  151.5   41.3       58.5   16.5\n",
              "4  180.8   10.8       58.4   17.9\n",
              "5    8.7   48.9       75.0    7.2\n",
              "6   57.5   32.8       23.5   11.8\n",
              "7  120.2   19.6       11.6   13.2\n",
              "8    8.6    2.1        1.0    4.8\n",
              "9  199.8    2.6       21.2   15.6"
            ],
            "text/html": [
              "\n",
              "  <div id=\"df-33b6c155-bcaa-475d-9ada-7c218b6aa940\">\n",
              "    <div class=\"colab-df-container\">\n",
              "      <div>\n",
              "<style scoped>\n",
              "    .dataframe tbody tr th:only-of-type {\n",
              "        vertical-align: middle;\n",
              "    }\n",
              "\n",
              "    .dataframe tbody tr th {\n",
              "        vertical-align: top;\n",
              "    }\n",
              "\n",
              "    .dataframe thead th {\n",
              "        text-align: right;\n",
              "    }\n",
              "</style>\n",
              "<table border=\"1\" class=\"dataframe\">\n",
              "  <thead>\n",
              "    <tr style=\"text-align: right;\">\n",
              "      <th></th>\n",
              "      <th>TV</th>\n",
              "      <th>Radio</th>\n",
              "      <th>Newspaper</th>\n",
              "      <th>Sales</th>\n",
              "    </tr>\n",
              "  </thead>\n",
              "  <tbody>\n",
              "    <tr>\n",
              "      <th>0</th>\n",
              "      <td>230.1</td>\n",
              "      <td>37.8</td>\n",
              "      <td>69.2</td>\n",
              "      <td>22.1</td>\n",
              "    </tr>\n",
              "    <tr>\n",
              "      <th>1</th>\n",
              "      <td>44.5</td>\n",
              "      <td>39.3</td>\n",
              "      <td>45.1</td>\n",
              "      <td>10.4</td>\n",
              "    </tr>\n",
              "    <tr>\n",
              "      <th>2</th>\n",
              "      <td>17.2</td>\n",
              "      <td>45.9</td>\n",
              "      <td>69.3</td>\n",
              "      <td>12.0</td>\n",
              "    </tr>\n",
              "    <tr>\n",
              "      <th>3</th>\n",
              "      <td>151.5</td>\n",
              "      <td>41.3</td>\n",
              "      <td>58.5</td>\n",
              "      <td>16.5</td>\n",
              "    </tr>\n",
              "    <tr>\n",
              "      <th>4</th>\n",
              "      <td>180.8</td>\n",
              "      <td>10.8</td>\n",
              "      <td>58.4</td>\n",
              "      <td>17.9</td>\n",
              "    </tr>\n",
              "    <tr>\n",
              "      <th>5</th>\n",
              "      <td>8.7</td>\n",
              "      <td>48.9</td>\n",
              "      <td>75.0</td>\n",
              "      <td>7.2</td>\n",
              "    </tr>\n",
              "    <tr>\n",
              "      <th>6</th>\n",
              "      <td>57.5</td>\n",
              "      <td>32.8</td>\n",
              "      <td>23.5</td>\n",
              "      <td>11.8</td>\n",
              "    </tr>\n",
              "    <tr>\n",
              "      <th>7</th>\n",
              "      <td>120.2</td>\n",
              "      <td>19.6</td>\n",
              "      <td>11.6</td>\n",
              "      <td>13.2</td>\n",
              "    </tr>\n",
              "    <tr>\n",
              "      <th>8</th>\n",
              "      <td>8.6</td>\n",
              "      <td>2.1</td>\n",
              "      <td>1.0</td>\n",
              "      <td>4.8</td>\n",
              "    </tr>\n",
              "    <tr>\n",
              "      <th>9</th>\n",
              "      <td>199.8</td>\n",
              "      <td>2.6</td>\n",
              "      <td>21.2</td>\n",
              "      <td>15.6</td>\n",
              "    </tr>\n",
              "  </tbody>\n",
              "</table>\n",
              "</div>\n",
              "      <button class=\"colab-df-convert\" onclick=\"convertToInteractive('df-33b6c155-bcaa-475d-9ada-7c218b6aa940')\"\n",
              "              title=\"Convert this dataframe to an interactive table.\"\n",
              "              style=\"display:none;\">\n",
              "        \n",
              "  <svg xmlns=\"http://www.w3.org/2000/svg\" height=\"24px\"viewBox=\"0 0 24 24\"\n",
              "       width=\"24px\">\n",
              "    <path d=\"M0 0h24v24H0V0z\" fill=\"none\"/>\n",
              "    <path d=\"M18.56 5.44l.94 2.06.94-2.06 2.06-.94-2.06-.94-.94-2.06-.94 2.06-2.06.94zm-11 1L8.5 8.5l.94-2.06 2.06-.94-2.06-.94L8.5 2.5l-.94 2.06-2.06.94zm10 10l.94 2.06.94-2.06 2.06-.94-2.06-.94-.94-2.06-.94 2.06-2.06.94z\"/><path d=\"M17.41 7.96l-1.37-1.37c-.4-.4-.92-.59-1.43-.59-.52 0-1.04.2-1.43.59L10.3 9.45l-7.72 7.72c-.78.78-.78 2.05 0 2.83L4 21.41c.39.39.9.59 1.41.59.51 0 1.02-.2 1.41-.59l7.78-7.78 2.81-2.81c.8-.78.8-2.07 0-2.86zM5.41 20L4 18.59l7.72-7.72 1.47 1.35L5.41 20z\"/>\n",
              "  </svg>\n",
              "      </button>\n",
              "      \n",
              "  <style>\n",
              "    .colab-df-container {\n",
              "      display:flex;\n",
              "      flex-wrap:wrap;\n",
              "      gap: 12px;\n",
              "    }\n",
              "\n",
              "    .colab-df-convert {\n",
              "      background-color: #E8F0FE;\n",
              "      border: none;\n",
              "      border-radius: 50%;\n",
              "      cursor: pointer;\n",
              "      display: none;\n",
              "      fill: #1967D2;\n",
              "      height: 32px;\n",
              "      padding: 0 0 0 0;\n",
              "      width: 32px;\n",
              "    }\n",
              "\n",
              "    .colab-df-convert:hover {\n",
              "      background-color: #E2EBFA;\n",
              "      box-shadow: 0px 1px 2px rgba(60, 64, 67, 0.3), 0px 1px 3px 1px rgba(60, 64, 67, 0.15);\n",
              "      fill: #174EA6;\n",
              "    }\n",
              "\n",
              "    [theme=dark] .colab-df-convert {\n",
              "      background-color: #3B4455;\n",
              "      fill: #D2E3FC;\n",
              "    }\n",
              "\n",
              "    [theme=dark] .colab-df-convert:hover {\n",
              "      background-color: #434B5C;\n",
              "      box-shadow: 0px 1px 3px 1px rgba(0, 0, 0, 0.15);\n",
              "      filter: drop-shadow(0px 1px 2px rgba(0, 0, 0, 0.3));\n",
              "      fill: #FFFFFF;\n",
              "    }\n",
              "  </style>\n",
              "\n",
              "      <script>\n",
              "        const buttonEl =\n",
              "          document.querySelector('#df-33b6c155-bcaa-475d-9ada-7c218b6aa940 button.colab-df-convert');\n",
              "        buttonEl.style.display =\n",
              "          google.colab.kernel.accessAllowed ? 'block' : 'none';\n",
              "\n",
              "        async function convertToInteractive(key) {\n",
              "          const element = document.querySelector('#df-33b6c155-bcaa-475d-9ada-7c218b6aa940');\n",
              "          const dataTable =\n",
              "            await google.colab.kernel.invokeFunction('convertToInteractive',\n",
              "                                                     [key], {});\n",
              "          if (!dataTable) return;\n",
              "\n",
              "          const docLinkHtml = 'Like what you see? Visit the ' +\n",
              "            '<a target=\"_blank\" href=https://colab.research.google.com/notebooks/data_table.ipynb>data table notebook</a>'\n",
              "            + ' to learn more about interactive tables.';\n",
              "          element.innerHTML = '';\n",
              "          dataTable['output_type'] = 'display_data';\n",
              "          await google.colab.output.renderOutput(dataTable, element);\n",
              "          const docLink = document.createElement('div');\n",
              "          docLink.innerHTML = docLinkHtml;\n",
              "          element.appendChild(docLink);\n",
              "        }\n",
              "      </script>\n",
              "    </div>\n",
              "  </div>\n",
              "  "
            ]
          },
          "metadata": {},
          "execution_count": 18
        }
      ]
    },
    {
      "cell_type": "code",
      "metadata": {
        "id": "7pqoyOlNneCq",
        "colab": {
          "base_uri": "https://localhost:8080/",
          "height": 300
        },
        "outputId": "5e1c5640-140f-4625-d5ee-31ceb56c1e30"
      },
      "source": [
        "companyDF.describe()\n",
        "\n",
        "\n"
      ],
      "execution_count": null,
      "outputs": [
        {
          "output_type": "execute_result",
          "data": {
            "text/plain": [
              "               TV       Radio   Newspaper       Sales\n",
              "count  200.000000  200.000000  200.000000  200.000000\n",
              "mean   147.042500   23.264000   30.554000   15.130500\n",
              "std     85.854236   14.846809   21.778621    5.283892\n",
              "min      0.700000    0.000000    0.300000    1.600000\n",
              "25%     74.375000    9.975000   12.750000   11.000000\n",
              "50%    149.750000   22.900000   25.750000   16.000000\n",
              "75%    218.825000   36.525000   45.100000   19.050000\n",
              "max    296.400000   49.600000  114.000000   27.000000"
            ],
            "text/html": [
              "\n",
              "  <div id=\"df-0d177806-6e55-4924-973d-6b3cf8c72a44\">\n",
              "    <div class=\"colab-df-container\">\n",
              "      <div>\n",
              "<style scoped>\n",
              "    .dataframe tbody tr th:only-of-type {\n",
              "        vertical-align: middle;\n",
              "    }\n",
              "\n",
              "    .dataframe tbody tr th {\n",
              "        vertical-align: top;\n",
              "    }\n",
              "\n",
              "    .dataframe thead th {\n",
              "        text-align: right;\n",
              "    }\n",
              "</style>\n",
              "<table border=\"1\" class=\"dataframe\">\n",
              "  <thead>\n",
              "    <tr style=\"text-align: right;\">\n",
              "      <th></th>\n",
              "      <th>TV</th>\n",
              "      <th>Radio</th>\n",
              "      <th>Newspaper</th>\n",
              "      <th>Sales</th>\n",
              "    </tr>\n",
              "  </thead>\n",
              "  <tbody>\n",
              "    <tr>\n",
              "      <th>count</th>\n",
              "      <td>200.000000</td>\n",
              "      <td>200.000000</td>\n",
              "      <td>200.000000</td>\n",
              "      <td>200.000000</td>\n",
              "    </tr>\n",
              "    <tr>\n",
              "      <th>mean</th>\n",
              "      <td>147.042500</td>\n",
              "      <td>23.264000</td>\n",
              "      <td>30.554000</td>\n",
              "      <td>15.130500</td>\n",
              "    </tr>\n",
              "    <tr>\n",
              "      <th>std</th>\n",
              "      <td>85.854236</td>\n",
              "      <td>14.846809</td>\n",
              "      <td>21.778621</td>\n",
              "      <td>5.283892</td>\n",
              "    </tr>\n",
              "    <tr>\n",
              "      <th>min</th>\n",
              "      <td>0.700000</td>\n",
              "      <td>0.000000</td>\n",
              "      <td>0.300000</td>\n",
              "      <td>1.600000</td>\n",
              "    </tr>\n",
              "    <tr>\n",
              "      <th>25%</th>\n",
              "      <td>74.375000</td>\n",
              "      <td>9.975000</td>\n",
              "      <td>12.750000</td>\n",
              "      <td>11.000000</td>\n",
              "    </tr>\n",
              "    <tr>\n",
              "      <th>50%</th>\n",
              "      <td>149.750000</td>\n",
              "      <td>22.900000</td>\n",
              "      <td>25.750000</td>\n",
              "      <td>16.000000</td>\n",
              "    </tr>\n",
              "    <tr>\n",
              "      <th>75%</th>\n",
              "      <td>218.825000</td>\n",
              "      <td>36.525000</td>\n",
              "      <td>45.100000</td>\n",
              "      <td>19.050000</td>\n",
              "    </tr>\n",
              "    <tr>\n",
              "      <th>max</th>\n",
              "      <td>296.400000</td>\n",
              "      <td>49.600000</td>\n",
              "      <td>114.000000</td>\n",
              "      <td>27.000000</td>\n",
              "    </tr>\n",
              "  </tbody>\n",
              "</table>\n",
              "</div>\n",
              "      <button class=\"colab-df-convert\" onclick=\"convertToInteractive('df-0d177806-6e55-4924-973d-6b3cf8c72a44')\"\n",
              "              title=\"Convert this dataframe to an interactive table.\"\n",
              "              style=\"display:none;\">\n",
              "        \n",
              "  <svg xmlns=\"http://www.w3.org/2000/svg\" height=\"24px\"viewBox=\"0 0 24 24\"\n",
              "       width=\"24px\">\n",
              "    <path d=\"M0 0h24v24H0V0z\" fill=\"none\"/>\n",
              "    <path d=\"M18.56 5.44l.94 2.06.94-2.06 2.06-.94-2.06-.94-.94-2.06-.94 2.06-2.06.94zm-11 1L8.5 8.5l.94-2.06 2.06-.94-2.06-.94L8.5 2.5l-.94 2.06-2.06.94zm10 10l.94 2.06.94-2.06 2.06-.94-2.06-.94-.94-2.06-.94 2.06-2.06.94z\"/><path d=\"M17.41 7.96l-1.37-1.37c-.4-.4-.92-.59-1.43-.59-.52 0-1.04.2-1.43.59L10.3 9.45l-7.72 7.72c-.78.78-.78 2.05 0 2.83L4 21.41c.39.39.9.59 1.41.59.51 0 1.02-.2 1.41-.59l7.78-7.78 2.81-2.81c.8-.78.8-2.07 0-2.86zM5.41 20L4 18.59l7.72-7.72 1.47 1.35L5.41 20z\"/>\n",
              "  </svg>\n",
              "      </button>\n",
              "      \n",
              "  <style>\n",
              "    .colab-df-container {\n",
              "      display:flex;\n",
              "      flex-wrap:wrap;\n",
              "      gap: 12px;\n",
              "    }\n",
              "\n",
              "    .colab-df-convert {\n",
              "      background-color: #E8F0FE;\n",
              "      border: none;\n",
              "      border-radius: 50%;\n",
              "      cursor: pointer;\n",
              "      display: none;\n",
              "      fill: #1967D2;\n",
              "      height: 32px;\n",
              "      padding: 0 0 0 0;\n",
              "      width: 32px;\n",
              "    }\n",
              "\n",
              "    .colab-df-convert:hover {\n",
              "      background-color: #E2EBFA;\n",
              "      box-shadow: 0px 1px 2px rgba(60, 64, 67, 0.3), 0px 1px 3px 1px rgba(60, 64, 67, 0.15);\n",
              "      fill: #174EA6;\n",
              "    }\n",
              "\n",
              "    [theme=dark] .colab-df-convert {\n",
              "      background-color: #3B4455;\n",
              "      fill: #D2E3FC;\n",
              "    }\n",
              "\n",
              "    [theme=dark] .colab-df-convert:hover {\n",
              "      background-color: #434B5C;\n",
              "      box-shadow: 0px 1px 3px 1px rgba(0, 0, 0, 0.15);\n",
              "      filter: drop-shadow(0px 1px 2px rgba(0, 0, 0, 0.3));\n",
              "      fill: #FFFFFF;\n",
              "    }\n",
              "  </style>\n",
              "\n",
              "      <script>\n",
              "        const buttonEl =\n",
              "          document.querySelector('#df-0d177806-6e55-4924-973d-6b3cf8c72a44 button.colab-df-convert');\n",
              "        buttonEl.style.display =\n",
              "          google.colab.kernel.accessAllowed ? 'block' : 'none';\n",
              "\n",
              "        async function convertToInteractive(key) {\n",
              "          const element = document.querySelector('#df-0d177806-6e55-4924-973d-6b3cf8c72a44');\n",
              "          const dataTable =\n",
              "            await google.colab.kernel.invokeFunction('convertToInteractive',\n",
              "                                                     [key], {});\n",
              "          if (!dataTable) return;\n",
              "\n",
              "          const docLinkHtml = 'Like what you see? Visit the ' +\n",
              "            '<a target=\"_blank\" href=https://colab.research.google.com/notebooks/data_table.ipynb>data table notebook</a>'\n",
              "            + ' to learn more about interactive tables.';\n",
              "          element.innerHTML = '';\n",
              "          dataTable['output_type'] = 'display_data';\n",
              "          await google.colab.output.renderOutput(dataTable, element);\n",
              "          const docLink = document.createElement('div');\n",
              "          docLink.innerHTML = docLinkHtml;\n",
              "          element.appendChild(docLink);\n",
              "        }\n",
              "      </script>\n",
              "    </div>\n",
              "  </div>\n",
              "  "
            ]
          },
          "metadata": {},
          "execution_count": 19
        }
      ]
    },
    {
      "cell_type": "markdown",
      "metadata": {
        "id": "F6zD4J9PvA_n"
      },
      "source": [
        "## **Examine Correlations**\n",
        "\n"
      ]
    },
    {
      "cell_type": "code",
      "metadata": {
        "id": "7TIYzy55W6EV",
        "colab": {
          "base_uri": "https://localhost:8080/"
        },
        "outputId": "0906b72e-5786-4dbe-abbe-544a68a63bf0"
      },
      "source": [
        "# Let’s compute the standard correlation coefficient (Pearson’s r) between pairs of attributes\n",
        "# to determine which parameter has the greatest correlation with Sales\n",
        "\n",
        "corr_matrix = companyDF.corr()\n",
        "\n",
        "corr_matrix[\"Sales\"].sort_values(ascending=False)\n",
        "\n"
      ],
      "execution_count": null,
      "outputs": [
        {
          "output_type": "execute_result",
          "data": {
            "text/plain": [
              "Sales        1.000000\n",
              "TV           0.901208\n",
              "Radio        0.349631\n",
              "Newspaper    0.157960\n",
              "Name: Sales, dtype: float64"
            ]
          },
          "metadata": {},
          "execution_count": 20
        }
      ]
    },
    {
      "cell_type": "markdown",
      "source": [
        "## **Examine Features with Boxplots**"
      ],
      "metadata": {
        "id": "jKLj034t8agP"
      }
    },
    {
      "cell_type": "code",
      "metadata": {
        "id": "6J9ryw-0uy8D",
        "colab": {
          "base_uri": "https://localhost:8080/",
          "height": 282
        },
        "outputId": "81af0984-81e7-44bc-ac83-2df150f2b2aa"
      },
      "source": [
        "companyDF.boxplot()\n",
        "\n"
      ],
      "execution_count": null,
      "outputs": [
        {
          "output_type": "execute_result",
          "data": {
            "text/plain": [
              "<matplotlib.axes._subplots.AxesSubplot at 0x7fca5b3b4110>"
            ]
          },
          "metadata": {},
          "execution_count": 21
        },
        {
          "output_type": "display_data",
          "data": {
            "text/plain": [
              "<Figure size 432x288 with 1 Axes>"
            ],
            "image/png": "[encoded data removed]"
          },
          "metadata": {
            "needs_background": "light"
          }
        }
      ]
    },
    {
      "cell_type": "markdown",
      "source": [
        "## **Examine Feature Distributions**\n",
        "\n"
      ],
      "metadata": {
        "id": "3lyZDK048gci"
      }
    },
    {
      "cell_type": "code",
      "source": [
        "# plotting histogram and  kernel density estimates \n",
        "sns.displot(data=companyDF, x=\"Sales\", kde=True)\n",
        " \n",
        "sns.displot(data=companyDF, x=\"TV\", kde=True) \n",
        "\n",
        "sns.displot(data=companyDF, x=\"Radio\", kde=True) \n",
        "\n",
        "sns.displot(data=companyDF, x=\"Newspaper\", kde=True) \n",
        "\n",
        "\n"
      ],
      "metadata": {
        "colab": {
          "base_uri": "https://localhost:8080/",
          "height": 1000
        },
        "id": "MYJxZs058WRv",
        "outputId": "571b6d0e-5d28-4f88-d498-5f79ace97cf1"
      },
      "execution_count": null,
      "outputs": [
        {
          "output_type": "execute_result",
          "data": {
            "text/plain": [
              "<seaborn.axisgrid.FacetGrid at 0x7fca44179bd0>"
            ]
          },
          "metadata": {},
          "execution_count": 22
        },
        {
          "output_type": "display_data",
          "data": {
            "text/plain": [
              "<Figure size 360x360 with 1 Axes>"
            ],
            "image/png": "[encoded data removed]"
          },
          "metadata": {
            "needs_background": "light"
          }
        },
        {
          "output_type": "display_data",
          "data": {
            "text/plain": [
              "<Figure size 360x360 with 1 Axes>"
            ],
            "image/png": "[encoded data removed]"
          },
          "metadata": {
            "needs_background": "light"
          }
        },
        {
          "output_type": "display_data",
          "data": {
            "text/plain": [
              "<Figure size 360x360 with 1 Axes>"
            ],
            "image/png": "[encoded data removed]"
          },
          "metadata": {
            "needs_background": "light"
          }
        },
        {
          "output_type": "display_data",
          "data": {
            "text/plain": [
              "<Figure size 360x360 with 1 Axes>"
            ],
            "image/png": "[encoded data removed]"
          },
          "metadata": {
            "needs_background": "light"
          }
        }
      ]
    },
    {
      "cell_type": "markdown",
      "source": [
        "## **Check for Missing Values**\n",
        "\n",
        "* Determine if there are any missing values\n",
        "* If so, decide on the method of imputation, e.g., mean, median, most_frequent\n",
        "\n"
      ],
      "metadata": {
        "id": "Vf62xiIy9VlM"
      }
    },
    {
      "cell_type": "code",
      "source": [
        "companyDF.isnull().sum()\n",
        "\n",
        "\n"
      ],
      "metadata": {
        "colab": {
          "base_uri": "https://localhost:8080/"
        },
        "id": "DvUhfmSq9ZFz",
        "outputId": "cb9ca49d-58f2-45cd-e2ba-40c601e54136"
      },
      "execution_count": null,
      "outputs": [
        {
          "output_type": "execute_result",
          "data": {
            "text/plain": [
              "TV           0\n",
              "Radio        0\n",
              "Newspaper    0\n",
              "Sales        0\n",
              "dtype: int64"
            ]
          },
          "metadata": {},
          "execution_count": 23
        }
      ]
    },
    {
      "cell_type": "markdown",
      "source": [
        "## **Bulid the Linear Regression Model**\n",
        "\n",
        "* y = f(x), where\n",
        "\n",
        "> y (dependent parameter) = Sales\n",
        "\n",
        "> x (independent parameter) = TV, Radio, or NewsPaper\n",
        "\n",
        "\n",
        "\n",
        "\n"
      ],
      "metadata": {
        "id": "N6dcOg0Q5fnw"
      }
    },
    {
      "cell_type": "code",
      "metadata": {
        "id": "5DCwGgCy14vN",
        "colab": {
          "base_uri": "https://localhost:8080/",
          "height": 303
        },
        "outputId": "779c7a5b-f6a2-48d5-bd5c-f6d5d30a1620"
      },
      "source": [
        "# Here the target variable is the Sales column\n",
        "\n",
        "sns.pairplot(companyDF, x_vars=['TV', 'Radio','Newspaper'], y_vars='Sales', height=4, aspect=1, kind='scatter')\n",
        "\n",
        "plt.show()\n",
        "\n",
        "\n"
      ],
      "execution_count": null,
      "outputs": [
        {
          "output_type": "display_data",
          "data": {
            "text/plain": [
              "<Figure size 864x288 with 3 Axes>"
            ],
            "image/png": "[encoded data removed]"
          },
          "metadata": {
            "needs_background": "light"
          }
        }
      ]
    },
    {
      "cell_type": "markdown",
      "source": [
        "## **Use the Entire Data Set for Training**"
      ],
      "metadata": {
        "id": "8V3GbJLkDliV"
      }
    },
    {
      "cell_type": "code",
      "metadata": {
        "id": "YycWBWa9xlvu",
        "colab": {
          "base_uri": "https://localhost:8080/"
        },
        "outputId": "029799a8-e385-4c43-d6ea-698e7c85078f"
      },
      "source": [
        "import numpy as np\n",
        "from sklearn import linear_model\n",
        "from sklearn.model_selection import train_test_split\n",
        "\n",
        "# create the model\n",
        "lm1 = linear_model.LinearRegression()\n",
        "\n",
        "\n",
        "# reshape arrays; -1 means we don't specify #rows\n",
        "x = companyDF['TV'].values.reshape(-1,1)\n",
        "y = companyDF['Sales'].values.reshape(-1,1)\n",
        "\n",
        "\n",
        "# Fit the model using .fit() method\n",
        "lm1.fit(x, y)\n",
        "\n",
        "# intercept and slope values\n",
        "print(\"Intercept :\", lm1.intercept_)\n",
        "print('Slope :', lm1.coef_)\n",
        "\n"
      ],
      "execution_count": null,
      "outputs": [
        {
          "output_type": "stream",
          "name": "stdout",
          "text": [
            "Intercept : [6.97482149]\n",
            "Slope : [[0.05546477]]\n"
          ]
        }
      ]
    },
    {
      "cell_type": "code",
      "source": [
        "# Let's make predictions on the data and evaluate the model using the R² and MSE values\n",
        "'''\n",
        "R2 is a statistic that will give some information about the goodness of fit of a model. \n",
        "In regression, the R2 coefficient of determination is a statistical measure of how well \n",
        "the regression predictions approximate the real data points. An R2 of 1 indicates that \n",
        "the regression predictions perfectly fit the data.\n",
        "'''\n",
        "from sklearn.metrics import r2_score, mean_squared_error\n",
        "\n",
        "# make predictions using the entire data set\n",
        "y_pred = lm1.predict(x)\n",
        "\n",
        "\n",
        "print('R2 score:',            r2_score(y, y_pred))\n",
        "print('Mean squared error:', mean_squared_error(y, y_pred))\n",
        "\n",
        "\n"
      ],
      "metadata": {
        "colab": {
          "base_uri": "https://localhost:8080/"
        },
        "id": "7o5ibCbpGg6H",
        "outputId": "542d8179-7440-431a-e065-3bf8d1811902"
      },
      "execution_count": null,
      "outputs": [
        {
          "output_type": "stream",
          "name": "stdout",
          "text": [
            "R2 score: 0.8121757029987414\n",
            "Mean squared error: 5.2177438977951285\n"
          ]
        }
      ]
    },
    {
      "cell_type": "markdown",
      "metadata": {
        "id": "3qLQhp5TGqiD"
      },
      "source": [
        "### **Linear Model**:   Sales = 6.97 + 0.05 * TV"
      ]
    },
    {
      "cell_type": "markdown",
      "source": [
        "## **Split the Data into Training and Test Cases**\n",
        "\n",
        "![image.png](data:image/png;base64,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)"
      ],
      "metadata": {
        "id": "NH7X3f3SEVep"
      }
    },
    {
      "cell_type": "code",
      "source": [
        "# Let's experiment again, but this time split the data into training and testing sets\n",
        "\n",
        "# random_state controls the shuffling of input data and allows us to reproduce the \n",
        "# same results each time\n",
        "\n",
        "from sklearn.model_selection import train_test_split\n",
        "\n",
        "x_train, x_test, y_train, y_test = train_test_split(x, y, train_size = 0.7, \n",
        "                                                          test_size = 0.3, \n",
        "                                                          random_state = 100)\n",
        "\n"
      ],
      "metadata": {
        "id": "R3JArzprEUXi"
      },
      "execution_count": null,
      "outputs": []
    },
    {
      "cell_type": "code",
      "source": [
        "# 70% of 200 cases are used for training now\n",
        "x_train.shape\n",
        "\n"
      ],
      "metadata": {
        "colab": {
          "base_uri": "https://localhost:8080/"
        },
        "id": "yeuzRcdhE3tr",
        "outputId": "f29a2ea7-b58d-412c-c276-a301f1b93a7c"
      },
      "execution_count": null,
      "outputs": [
        {
          "output_type": "execute_result",
          "data": {
            "text/plain": [
              "(140, 1)"
            ]
          },
          "metadata": {},
          "execution_count": 40
        }
      ]
    },
    {
      "cell_type": "code",
      "source": [
        "# 30% of 200 cases are set aside for testing\n",
        "x_test.shape\n",
        "\n"
      ],
      "metadata": {
        "colab": {
          "base_uri": "https://localhost:8080/"
        },
        "id": "SIet771rE6JU",
        "outputId": "47d1daa0-297a-4ee8-eef9-ffc8390ec567"
      },
      "execution_count": null,
      "outputs": [
        {
          "output_type": "execute_result",
          "data": {
            "text/plain": [
              "(60, 1)"
            ]
          },
          "metadata": {},
          "execution_count": 41
        }
      ]
    },
    {
      "cell_type": "code",
      "source": [
        "# create the model\n",
        "lm2 = linear_model.LinearRegression()\n",
        "\n",
        "# fit a new model on the reduced training data\n",
        "lm2.fit(x_train, y_train)\n",
        "\n",
        "print(\"Intercept :\", lm2.intercept_)\n",
        "print('Slope :', lm2.coef_)\n",
        "\n",
        "\n"
      ],
      "metadata": {
        "colab": {
          "base_uri": "https://localhost:8080/"
        },
        "id": "-ViUkk9IE9K_",
        "outputId": "cd19e14e-6147-42ca-ba85-4eb6a27a81be"
      },
      "execution_count": null,
      "outputs": [
        {
          "output_type": "stream",
          "name": "stdout",
          "text": [
            "Intercept : [6.9486832]\n",
            "Slope : [[0.05454575]]\n"
          ]
        }
      ]
    },
    {
      "cell_type": "markdown",
      "source": [
        "## **Linear Model:** Sales = 6.95 + 0.05 * TV\n"
      ],
      "metadata": {
        "id": "eD71Rk_-FFYb"
      }
    },
    {
      "cell_type": "code",
      "metadata": {
        "colab": {
          "base_uri": "https://localhost:8080/"
        },
        "id": "HoOFgHYftbLe",
        "outputId": "dbfededa-2047-4db3-b8f2-ed899a55b46c"
      },
      "source": [
        "from sklearn.metrics import r2_score, mean_squared_error\n",
        "\n",
        "# make predictions using the testing set\n",
        "y_test_pred = lm2.predict(x_test)\n",
        "\n",
        "\n",
        "print('R2 score:',            r2_score(y_test, y_test_pred))\n",
        "print('Mean squared error:', mean_squared_error(y_test, y_test_pred))\n",
        "\n",
        "\n"
      ],
      "execution_count": null,
      "outputs": [
        {
          "output_type": "stream",
          "name": "stdout",
          "text": [
            "R2 score: 0.7921031601245662\n",
            "Mean squared error: 4.077556371826948\n"
          ]
        }
      ]
    },
    {
      "cell_type": "markdown",
      "source": [
        "## **Summary**\n",
        "\n",
        "* Model trained and tested on the entire data set of 200 cases: \n",
        "> **Sales = 6.97 + 0.05 * TV**    \n",
        "\n",
        "* Model trained on 70% of the data and tested on 30% of the data: \n",
        "> **Sales = 6.95 + 0.05 * TV**\n",
        "\n",
        "\n",
        "\n",
        "\n",
        "\n"
      ],
      "metadata": {
        "id": "jBzkAmB7HLjU"
      }
    },
    {
      "cell_type": "code",
      "metadata": {
        "id": "pt8DBMTSD9d6",
        "colab": {
          "base_uri": "https://localhost:8080/",
          "height": 714
        },
        "outputId": "9b344424-2eba-479d-aba4-8a1e83d9d8f4"
      },
      "source": [
        "# plot the best fit linear models\n",
        "companyDF.plot(kind='scatter', x='TV', y='Sales', figsize=(12, 12))\n",
        "\n",
        "\n",
        "plt.plot(x, lm1.intercept_ + lm1.coef_*x, \"r\", label=\"Model trained and tested on 200 examples (R2=0.811)\")\n",
        "plt.plot(x, lm2.intercept_ + lm2.coef_*x, \"y\", label=\"Model trained on 70% and tested on 30% of data (R2=0.792)\")\n",
        "\n",
        "plt.legend(loc=\"upper left\")\n",
        "plt.show()\n"
      ],
      "execution_count": null,
      "outputs": [
        {
          "output_type": "display_data",
          "data": {
            "text/plain": [
              "<Figure size 864x864 with 1 Axes>"
            ],
            "image/png": "[encoded data removed]"
          },
          "metadata": {
            "needs_background": "light"
          }
        }
      ]
    },
    {
      "cell_type": "markdown",
      "metadata": {
        "id": "rSgR_I2F1fvL"
      },
      "source": [
        "# **Resources**\n",
        "* https://scikit-learn.org/stable/auto_examples/linear_model/plot_ols\n",
        "* https://towardsdatascience.com/simple-linear-regression-model-using-python-machine-learning-eab7924d18b4\n",
        "\n",
        "\n",
        "\n"
      ]
    }
  ]
}