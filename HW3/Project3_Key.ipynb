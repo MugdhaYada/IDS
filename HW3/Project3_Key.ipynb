{
  "nbformat": 4,
  "nbformat_minor": 0,
  "metadata": {
    "colab": {
      "name": "Project3_Key.ipynb",
      "provenance": [],
      "collapsed_sections": [],
      "authorship_tag": "ABX9TyMeHSjG2DC6IdpWRpbRN36I",
      "include_colab_link": true
    },
    "kernelspec": {
      "name": "python3",
      "display_name": "Python 3"
    },
    "language_info": {
      "name": "python"
    }
  },
  "cells": [
    {
      "cell_type": "markdown",
      "metadata": {
        "id": "view-in-github",
        "colab_type": "text"
      },
      "source": [
        "<a href=\"https://colab.research.google.com/github/bforoura/IDS/blob/main/HW3/Project3_Key.ipynb\" target=\"_parent\"><img src=\"https://colab.research.google.com/assets/colab-badge.svg\" alt=\"Open In Colab\"/></a>"
      ]
    },
    {
      "cell_type": "markdown",
      "source": [
        "# **Project 3: Statistical Analysis on Factors Influencing Life Expectancy**"
      ],
      "metadata": {
        "id": "M36c_eMlj0e_"
      }
    },
    {
      "cell_type": "code",
      "source": [
        "pip install mysql-connector-python"
      ],
      "metadata": {
        "colab": {
          "base_uri": "https://localhost:8080/"
        },
        "id": "5e56CzzPkX60",
        "outputId": "05bd2eeb-ef9a-409b-f3f2-0ce383d726ff"
      },
      "execution_count": null,
      "outputs": [
        {
          "output_type": "stream",
          "name": "stdout",
          "text": [
            "Collecting mysql-connector-python\n",
            "  Downloading mysql_connector_python-8.0.28-cp37-cp37m-manylinux1_x86_64.whl (37.6 MB)\n",
            "\u001b[K     |████████████████████████████████| 37.6 MB 1.5 MB/s \n",
            "\u001b[?25hRequirement already satisfied: protobuf>=3.0.0 in /usr/local/lib/python3.7/dist-packages (from mysql-connector-python) (3.17.3)\n",
            "Requirement already satisfied: six>=1.9 in /usr/local/lib/python3.7/dist-packages (from protobuf>=3.0.0->mysql-connector-python) (1.15.0)\n",
            "Installing collected packages: mysql-connector-python\n",
            "Successfully installed mysql-connector-python-8.0.28\n"
          ]
        }
      ]
    },
    {
      "cell_type": "code",
      "source": [
        "import mysql.connector as sql\n",
        "\n",
        "import pandas as pd\n",
        "import pandas as pd\n",
        "from tabulate import tabulate"
      ],
      "metadata": {
        "id": "WIstGHCcj66j"
      },
      "execution_count": null,
      "outputs": []
    },
    {
      "cell_type": "code",
      "source": [
        "# Connect to MySQL and execute a query\n",
        "\n",
        "def execute_query(query):\n",
        "   db_connection = sql.connect(host='208.109.18.154', database='???', user='???', password='???')\n",
        "   db_cursor = db_connection.cursor()\n",
        "   db_cursor.execute(query)\n",
        "   results = db_cursor.fetchall()\n",
        "\n",
        "   return results\n"
      ],
      "metadata": {
        "id": "EzJTGihepO17"
      },
      "execution_count": null,
      "outputs": []
    },
    {
      "cell_type": "code",
      "source": [
        "# Create a dataframe for the cleaned life expectancy dataset\n",
        "# We are assuming all missing values were imputed in MySQL\n",
        "\n",
        "# execute query and fetch results\n",
        "results = execute_query('SELECT * FROM Life_Expectancy')\n",
        "\n",
        "# create the dataframe\n",
        "LifeExpectancyDF = pd.DataFrame(results)\n",
        "\n",
        "# name the columns\n",
        "LifeExpectancyDF.columns = ['Country', 'Year', 'Life_Expectancy','Adult_Mortality','Alcohol',\n",
        "                            'Percentage_Expenditure','BMI','Total_Expenditure','GDP','Population','Schooling']\n",
        "\n",
        "# print a few rows\n",
        "LifeExpectancyDF.head()\n",
        "\n",
        "\n"
      ],
      "metadata": {
        "colab": {
          "base_uri": "https://localhost:8080/",
          "height": 206
        },
        "id": "Zx0_yXmakhst",
        "outputId": "7c3fd37d-59de-42b5-8602-af9ad14471de"
      },
      "execution_count": null,
      "outputs": [
        {
          "output_type": "execute_result",
          "data": {
            "text/html": [
              "\n",
              "  <div id=\"df-632400e5-8f8e-4c39-91e1-7a89a28c9d61\">\n",
              "    <div class=\"colab-df-container\">\n",
              "      <div>\n",
              "<style scoped>\n",
              "    .dataframe tbody tr th:only-of-type {\n",
              "        vertical-align: middle;\n",
              "    }\n",
              "\n",
              "    .dataframe tbody tr th {\n",
              "        vertical-align: top;\n",
              "    }\n",
              "\n",
              "    .dataframe thead th {\n",
              "        text-align: right;\n",
              "    }\n",
              "</style>\n",
              "<table border=\"1\" class=\"dataframe\">\n",
              "  <thead>\n",
              "    <tr style=\"text-align: right;\">\n",
              "      <th></th>\n",
              "      <th>Country</th>\n",
              "      <th>Year</th>\n",
              "      <th>Life_Expectancy</th>\n",
              "      <th>Adult_Mortality</th>\n",
              "      <th>Alcohol</th>\n",
              "      <th>Percentage_Expenditure</th>\n",
              "      <th>BMI</th>\n",
              "      <th>Total_Expenditure</th>\n",
              "      <th>GDP</th>\n",
              "      <th>Population</th>\n",
              "      <th>Schooling</th>\n",
              "    </tr>\n",
              "  </thead>\n",
              "  <tbody>\n",
              "    <tr>\n",
              "      <th>0</th>\n",
              "      <td>Afghanistan</td>\n",
              "      <td>2010</td>\n",
              "      <td>58.8</td>\n",
              "      <td>279</td>\n",
              "      <td>0.01</td>\n",
              "      <td>79.679367</td>\n",
              "      <td>16.7</td>\n",
              "      <td>9.20</td>\n",
              "      <td>553.328940</td>\n",
              "      <td>2883167</td>\n",
              "      <td>9.2</td>\n",
              "    </tr>\n",
              "    <tr>\n",
              "      <th>1</th>\n",
              "      <td>Afghanistan</td>\n",
              "      <td>2011</td>\n",
              "      <td>59.2</td>\n",
              "      <td>275</td>\n",
              "      <td>0.01</td>\n",
              "      <td>7.097109</td>\n",
              "      <td>17.2</td>\n",
              "      <td>7.87</td>\n",
              "      <td>63.537231</td>\n",
              "      <td>2978599</td>\n",
              "      <td>9.5</td>\n",
              "    </tr>\n",
              "    <tr>\n",
              "      <th>2</th>\n",
              "      <td>Afghanistan</td>\n",
              "      <td>2012</td>\n",
              "      <td>59.5</td>\n",
              "      <td>272</td>\n",
              "      <td>0.01</td>\n",
              "      <td>78.184215</td>\n",
              "      <td>17.6</td>\n",
              "      <td>8.52</td>\n",
              "      <td>669.959000</td>\n",
              "      <td>3696958</td>\n",
              "      <td>9.8</td>\n",
              "    </tr>\n",
              "    <tr>\n",
              "      <th>3</th>\n",
              "      <td>Afghanistan</td>\n",
              "      <td>2013</td>\n",
              "      <td>59.9</td>\n",
              "      <td>268</td>\n",
              "      <td>0.01</td>\n",
              "      <td>73.219243</td>\n",
              "      <td>18.1</td>\n",
              "      <td>8.13</td>\n",
              "      <td>631.744976</td>\n",
              "      <td>31731688</td>\n",
              "      <td>9.9</td>\n",
              "    </tr>\n",
              "    <tr>\n",
              "      <th>4</th>\n",
              "      <td>Afghanistan</td>\n",
              "      <td>2014</td>\n",
              "      <td>59.9</td>\n",
              "      <td>271</td>\n",
              "      <td>0.01</td>\n",
              "      <td>73.523582</td>\n",
              "      <td>18.6</td>\n",
              "      <td>8.18</td>\n",
              "      <td>612.696514</td>\n",
              "      <td>327582</td>\n",
              "      <td>10.0</td>\n",
              "    </tr>\n",
              "  </tbody>\n",
              "</table>\n",
              "</div>\n",
              "      <button class=\"colab-df-convert\" onclick=\"convertToInteractive('df-632400e5-8f8e-4c39-91e1-7a89a28c9d61')\"\n",
              "              title=\"Convert this dataframe to an interactive table.\"\n",
              "              style=\"display:none;\">\n",
              "        \n",
              "  <svg xmlns=\"http://www.w3.org/2000/svg\" height=\"24px\"viewBox=\"0 0 24 24\"\n",
              "       width=\"24px\">\n",
              "    <path d=\"M0 0h24v24H0V0z\" fill=\"none\"/>\n",
              "    <path d=\"M18.56 5.44l.94 2.06.94-2.06 2.06-.94-2.06-.94-.94-2.06-.94 2.06-2.06.94zm-11 1L8.5 8.5l.94-2.06 2.06-.94-2.06-.94L8.5 2.5l-.94 2.06-2.06.94zm10 10l.94 2.06.94-2.06 2.06-.94-2.06-.94-.94-2.06-.94 2.06-2.06.94z\"/><path d=\"M17.41 7.96l-1.37-1.37c-.4-.4-.92-.59-1.43-.59-.52 0-1.04.2-1.43.59L10.3 9.45l-7.72 7.72c-.78.78-.78 2.05 0 2.83L4 21.41c.39.39.9.59 1.41.59.51 0 1.02-.2 1.41-.59l7.78-7.78 2.81-2.81c.8-.78.8-2.07 0-2.86zM5.41 20L4 18.59l7.72-7.72 1.47 1.35L5.41 20z\"/>\n",
              "  </svg>\n",
              "      </button>\n",
              "      \n",
              "  <style>\n",
              "    .colab-df-container {\n",
              "      display:flex;\n",
              "      flex-wrap:wrap;\n",
              "      gap: 12px;\n",
              "    }\n",
              "\n",
              "    .colab-df-convert {\n",
              "      background-color: #E8F0FE;\n",
              "      border: none;\n",
              "      border-radius: 50%;\n",
              "      cursor: pointer;\n",
              "      display: none;\n",
              "      fill: #1967D2;\n",
              "      height: 32px;\n",
              "      padding: 0 0 0 0;\n",
              "      width: 32px;\n",
              "    }\n",
              "\n",
              "    .colab-df-convert:hover {\n",
              "      background-color: #E2EBFA;\n",
              "      box-shadow: 0px 1px 2px rgba(60, 64, 67, 0.3), 0px 1px 3px 1px rgba(60, 64, 67, 0.15);\n",
              "      fill: #174EA6;\n",
              "    }\n",
              "\n",
              "    [theme=dark] .colab-df-convert {\n",
              "      background-color: #3B4455;\n",
              "      fill: #D2E3FC;\n",
              "    }\n",
              "\n",
              "    [theme=dark] .colab-df-convert:hover {\n",
              "      background-color: #434B5C;\n",
              "      box-shadow: 0px 1px 3px 1px rgba(0, 0, 0, 0.15);\n",
              "      filter: drop-shadow(0px 1px 2px rgba(0, 0, 0, 0.3));\n",
              "      fill: #FFFFFF;\n",
              "    }\n",
              "  </style>\n",
              "\n",
              "      <script>\n",
              "        const buttonEl =\n",
              "          document.querySelector('#df-632400e5-8f8e-4c39-91e1-7a89a28c9d61 button.colab-df-convert');\n",
              "        buttonEl.style.display =\n",
              "          google.colab.kernel.accessAllowed ? 'block' : 'none';\n",
              "\n",
              "        async function convertToInteractive(key) {\n",
              "          const element = document.querySelector('#df-632400e5-8f8e-4c39-91e1-7a89a28c9d61');\n",
              "          const dataTable =\n",
              "            await google.colab.kernel.invokeFunction('convertToInteractive',\n",
              "                                                     [key], {});\n",
              "          if (!dataTable) return;\n",
              "\n",
              "          const docLinkHtml = 'Like what you see? Visit the ' +\n",
              "            '<a target=\"_blank\" href=https://colab.research.google.com/notebooks/data_table.ipynb>data table notebook</a>'\n",
              "            + ' to learn more about interactive tables.';\n",
              "          element.innerHTML = '';\n",
              "          dataTable['output_type'] = 'display_data';\n",
              "          await google.colab.output.renderOutput(dataTable, element);\n",
              "          const docLink = document.createElement('div');\n",
              "          docLink.innerHTML = docLinkHtml;\n",
              "          element.appendChild(docLink);\n",
              "        }\n",
              "      </script>\n",
              "    </div>\n",
              "  </div>\n",
              "  "
            ],
            "text/plain": [
              "       Country  Year  Life_Expectancy  Adult_Mortality  Alcohol  \\\n",
              "0  Afghanistan  2010             58.8              279     0.01   \n",
              "1  Afghanistan  2011             59.2              275     0.01   \n",
              "2  Afghanistan  2012             59.5              272     0.01   \n",
              "3  Afghanistan  2013             59.9              268     0.01   \n",
              "4  Afghanistan  2014             59.9              271     0.01   \n",
              "\n",
              "   Percentage_Expenditure   BMI  Total_Expenditure         GDP  Population  \\\n",
              "0               79.679367  16.7               9.20  553.328940     2883167   \n",
              "1                7.097109  17.2               7.87   63.537231     2978599   \n",
              "2               78.184215  17.6               8.52  669.959000     3696958   \n",
              "3               73.219243  18.1               8.13  631.744976    31731688   \n",
              "4               73.523582  18.6               8.18  612.696514      327582   \n",
              "\n",
              "   Schooling  \n",
              "0        9.2  \n",
              "1        9.5  \n",
              "2        9.8  \n",
              "3        9.9  \n",
              "4       10.0  "
            ]
          },
          "metadata": {},
          "execution_count": 5
        }
      ]
    },
    {
      "cell_type": "markdown",
      "source": [
        "# **Part I: MySQL (16 points)**"
      ],
      "metadata": {
        "id": "SrKegb8JmAB_"
      }
    },
    {
      "cell_type": "markdown",
      "source": [
        "## **(1) Display total count of countries after data cleaning.**"
      ],
      "metadata": {
        "id": "1XXQ3jE4l79F"
      }
    },
    {
      "cell_type": "code",
      "source": [
        "# distinct number of countries\n",
        "\n",
        "LifeExpectancyDF.Country.nunique()\n",
        "\n"
      ],
      "metadata": {
        "colab": {
          "base_uri": "https://localhost:8080/"
        },
        "id": "1E1pTQbHl-am",
        "outputId": "b919cbeb-9640-40fa-9d09-4e776f3d6e15"
      },
      "execution_count": null,
      "outputs": [
        {
          "output_type": "execute_result",
          "data": {
            "text/plain": [
              "145"
            ]
          },
          "metadata": {},
          "execution_count": 6
        }
      ]
    },
    {
      "cell_type": "code",
      "source": [
        "# execute query and fetch results\n",
        "num_countries = execute_query('SELECT count(distinct Country) FROM Life_Expectancy')\n",
        "\n",
        "print(num_countries)\n",
        "\n"
      ],
      "metadata": {
        "colab": {
          "base_uri": "https://localhost:8080/"
        },
        "id": "nJzPl5RVmUMC",
        "outputId": "1d25660c-08b9-4704-d14c-8653fee74a74"
      },
      "execution_count": null,
      "outputs": [
        {
          "output_type": "stream",
          "name": "stdout",
          "text": [
            "[(145,)]\n"
          ]
        }
      ]
    },
    {
      "cell_type": "markdown",
      "source": [
        "## **(2) List of countries with the highest and lowest average mortality rates.**\n",
        "\n",
        "* SELECT Country, avg(Adult_Mortality)\n",
        "* from Life_Expectancy\n",
        "* group by Country\n",
        "* order by avg(Adult_Mortality) asc limit 1;"
      ],
      "metadata": {
        "id": "KPdSsioGoTkz"
      }
    },
    {
      "cell_type": "code",
      "source": [
        "# execute query and fetch results\n",
        "lowest = execute_query('SELECT Country, avg(Adult_Mortality) from Life_Expectancy group by Country order by avg(Adult_Mortality) asc limit 1')\n",
        "highest = execute_query('SELECT Country, avg(Adult_Mortality) from Life_Expectancy group by Country order by avg(Adult_Mortality) desc limit 1')\n",
        "\n",
        "print(\"Lowest average mortality rate: \", lowest)\n",
        "print(\"Highest average mortality rate: \", highest)\n",
        "\n",
        "\n",
        "\n"
      ],
      "metadata": {
        "colab": {
          "base_uri": "https://localhost:8080/"
        },
        "id": "WuuaswkvornL",
        "outputId": "68c70fbd-d4b1-47a7-bf44-4939ea330023"
      },
      "execution_count": null,
      "outputs": [
        {
          "output_type": "stream",
          "name": "stdout",
          "text": [
            "Lowest average mortality rate:  [('Tunisia', Decimal('10.6667'))]\n",
            "Highest average mortality rate:  [('Lesotho', Decimal('436.0000'))]\n"
          ]
        }
      ]
    },
    {
      "cell_type": "code",
      "source": [
        "# Redo the groupings in Pandas\n",
        "\n",
        "lowestDF = LifeExpectancyDF.groupby('Country').agg({'Adult_Mortality': ['mean']}).min()\n",
        "highestDF = LifeExpectancyDF.groupby('Country').agg({'Adult_Mortality': ['mean']}).max()\n",
        "\n",
        "print(lowestDF)\n",
        "print(highestDF)\n",
        "\n",
        "\n"
      ],
      "metadata": {
        "colab": {
          "base_uri": "https://localhost:8080/"
        },
        "id": "mZQKxmzvwoAo",
        "outputId": "73d43f68-3ed8-485c-d87e-d644a2208051"
      },
      "execution_count": null,
      "outputs": [
        {
          "output_type": "stream",
          "name": "stdout",
          "text": [
            "Adult_Mortality  mean    10.666667\n",
            "dtype: float64\n",
            "Adult_Mortality  mean    436.0\n",
            "dtype: float64\n"
          ]
        }
      ]
    },
    {
      "cell_type": "markdown",
      "source": [
        "## **(3) List of countries with the highest and lowest average population.** "
      ],
      "metadata": {
        "id": "Jj6sEh-CsBND"
      }
    },
    {
      "cell_type": "code",
      "source": [
        "# execute query and fetch results\n",
        "lowest = execute_query('SELECT Country, avg(Population) from Life_Expectancy group by Country order by avg(Population) asc limit 1')\n",
        "highest = execute_query('SELECT Country, avg(Population) from Life_Expectancy group by Country order by avg(Population) desc limit 1')\n",
        "\n",
        "print(\"Lowest average population rate: \", lowest)\n",
        "print(\"Highest average population rate: \", highest)\n",
        "\n",
        "\n"
      ],
      "metadata": {
        "colab": {
          "base_uri": "https://localhost:8080/"
        },
        "id": "iMA5F1UesLq9",
        "outputId": "09c3f4ce-5186-4174-a876-e87d237a1d72"
      },
      "execution_count": null,
      "outputs": [
        {
          "output_type": "stream",
          "name": "stdout",
          "text": [
            "Lowest average population rate:  [('Palau', Decimal('292.0000'))]\n",
            "Highest average population rate:  [('India', Decimal('281099848.5000'))]\n"
          ]
        }
      ]
    },
    {
      "cell_type": "markdown",
      "source": [
        "## **(4) List of countries with the highest and lowest average GDP.**"
      ],
      "metadata": {
        "id": "v-2HakV9smqY"
      }
    },
    {
      "cell_type": "code",
      "source": [
        "# execute query and fetch results\n",
        "lowest = execute_query('SELECT Country, avg(GDP) from Life_Expectancy group by Country order by avg(GDP) asc limit 1')\n",
        "highest = execute_query('SELECT Country, avg(GDP) from Life_Expectancy group by Country order by avg(GDP) desc limit 1')\n",
        "\n",
        "print(\"Lowest average GDP rate: \", lowest)\n",
        "print(\"Highest average GDP rate: \", highest)\n",
        "\n"
      ],
      "metadata": {
        "colab": {
          "base_uri": "https://localhost:8080/"
        },
        "id": "YTqFvivgsrId",
        "outputId": "0ff20d90-9cb8-4456-cef0-3c654aa482c1"
      },
      "execution_count": null,
      "outputs": [
        {
          "output_type": "stream",
          "name": "stdout",
          "text": [
            "Lowest average GDP rate:  [('Senegal', 94.40303758333334)]\n",
            "Highest average GDP rate:  [('Switzerland', 70817.14495)]\n"
          ]
        }
      ]
    },
    {
      "cell_type": "markdown",
      "source": [
        "## **(5) List of countries with the highest and lowest average Schooling.**\n"
      ],
      "metadata": {
        "id": "U2JxJ_7XtHAc"
      }
    },
    {
      "cell_type": "code",
      "source": [
        "# execute query and fetch results\n",
        "lowest = execute_query('SELECT Country, avg(Schooling) from Life_Expectancy group by Country order by avg(Schooling) asc limit 1')\n",
        "highest = execute_query('SELECT Country, avg(Schooling) from Life_Expectancy group by Country order by avg(Schooling) desc limit 1')\n",
        "\n",
        "print(\"Lowest average schooling rate: \", lowest)\n",
        "print(\"Highest average schooling rate: \", highest)\n",
        "\n",
        "\n"
      ],
      "metadata": {
        "colab": {
          "base_uri": "https://localhost:8080/"
        },
        "id": "5z8V8wREtLkU",
        "outputId": "cac6bd55-bc9b-4944-bc98-b50a3efe4c40"
      },
      "execution_count": null,
      "outputs": [
        {
          "output_type": "stream",
          "name": "stdout",
          "text": [
            "Lowest average schooling rate:  [('Eritrea', 5.05)]\n",
            "Highest average schooling rate:  [('Australia', 20.083333333333332)]\n"
          ]
        }
      ]
    },
    {
      "cell_type": "markdown",
      "source": [
        "## **(6) Which countries have the highest and lowest average alcohol consumption?**"
      ],
      "metadata": {
        "id": "AKqdqFMktblb"
      }
    },
    {
      "cell_type": "code",
      "source": [
        "# execute query and fetch results\n",
        "lowest = execute_query('SELECT Country, avg(alcohol) from Life_Expectancy group by Country order by avg(alcohol) asc limit 1')\n",
        "highest = execute_query('SELECT Country, avg(alcohol) from Life_Expectancy group by Country order by avg(alcohol) desc limit 1')\n",
        "\n",
        "print(\"Lowest average alcohol consumption rate: \", lowest)\n",
        "print(\"Highest average alcohol consumption rate: \", highest)\n",
        "\n"
      ],
      "metadata": {
        "colab": {
          "base_uri": "https://localhost:8080/"
        },
        "id": "PX-RkdK7tfpj",
        "outputId": "51f1b715-3956-4c7f-9053-2daef8d609f4"
      },
      "execution_count": null,
      "outputs": [
        {
          "output_type": "stream",
          "name": "stdout",
          "text": [
            "Lowest average alcohol consumption rate:  [('Afghanistan', 0.01)]\n",
            "Highest average alcohol consumption rate:  [('Belarus', 13.5)]\n"
          ]
        }
      ]
    },
    {
      "cell_type": "markdown",
      "source": [
        "## **(7) Do densely populated countries tend to have lower life expectancy?**\n",
        "\n",
        "* As shown below, Sierra Leone with population of 1.7e+06 has LE of\n",
        "expectancy ~50 while Germany has LE of almost 85 with a population of 1.79e+07\n"
      ],
      "metadata": {
        "id": "mnqC03-zl4Y0"
      }
    },
    {
      "cell_type": "code",
      "source": [
        "# execute query and fetch results\n",
        "results1 = execute_query(' SELECT Country, avg(Population), avg(Life_Expectancy) ALE from Life_Expectancy group by Country ORDER BY ALE ASC limit 1')\n",
        "results2 = execute_query(' SELECT Country, avg(Population), avg(Life_Expectancy) ALE from Life_Expectancy group by Country ORDER BY ALE DESC limit 1')\n",
        "\n",
        "print(tabulate(results1))\n",
        "print(tabulate(results2))\n",
        "\n",
        "\n"
      ],
      "metadata": {
        "colab": {
          "base_uri": "https://localhost:8080/"
        },
        "id": "drdwF9oVuFof",
        "outputId": "ed00aece-ca88-42c4-b246-fbb00c13e07d"
      },
      "execution_count": null,
      "outputs": [
        {
          "output_type": "stream",
          "name": "stdout",
          "text": [
            "------------  -----------  -------\n",
            "Sierra Leone  1.68822e+06  49.9667\n",
            "------------  -----------  -------\n",
            "-------  -----------  -------\n",
            "Germany  1.79199e+07  84.6667\n",
            "-------  -----------  -------\n"
          ]
        }
      ]
    },
    {
      "cell_type": "markdown",
      "source": [
        "# **Part II: Python (24 Points)**"
      ],
      "metadata": {
        "id": "o3up5XGO4aBk"
      }
    },
    {
      "cell_type": "code",
      "source": [
        "# summary of the attribues\n",
        "\n",
        "LifeExpectancyDF.describe()\n",
        "\n",
        "\n"
      ],
      "metadata": {
        "colab": {
          "base_uri": "https://localhost:8080/",
          "height": 300
        },
        "id": "siXqYIm9Qvu-",
        "outputId": "422e05d3-bf09-4717-ff67-eccfd366642d"
      },
      "execution_count": null,
      "outputs": [
        {
          "output_type": "execute_result",
          "data": {
            "text/html": [
              "\n",
              "  <div id=\"df-de09ccb6-0e7b-4c8f-90c9-f6948b469817\">\n",
              "    <div class=\"colab-df-container\">\n",
              "      <div>\n",
              "<style scoped>\n",
              "    .dataframe tbody tr th:only-of-type {\n",
              "        vertical-align: middle;\n",
              "    }\n",
              "\n",
              "    .dataframe tbody tr th {\n",
              "        vertical-align: top;\n",
              "    }\n",
              "\n",
              "    .dataframe thead th {\n",
              "        text-align: right;\n",
              "    }\n",
              "</style>\n",
              "<table border=\"1\" class=\"dataframe\">\n",
              "  <thead>\n",
              "    <tr style=\"text-align: right;\">\n",
              "      <th></th>\n",
              "      <th>Year</th>\n",
              "      <th>Life_Expectancy</th>\n",
              "      <th>Adult_Mortality</th>\n",
              "      <th>Alcohol</th>\n",
              "      <th>Percentage_Expenditure</th>\n",
              "      <th>BMI</th>\n",
              "      <th>Total_Expenditure</th>\n",
              "      <th>GDP</th>\n",
              "      <th>Population</th>\n",
              "      <th>Schooling</th>\n",
              "    </tr>\n",
              "  </thead>\n",
              "  <tbody>\n",
              "    <tr>\n",
              "      <th>count</th>\n",
              "      <td>856.000000</td>\n",
              "      <td>856.000000</td>\n",
              "      <td>856.000000</td>\n",
              "      <td>856.000000</td>\n",
              "      <td>856.000000</td>\n",
              "      <td>856.000000</td>\n",
              "      <td>714.000000</td>\n",
              "      <td>856.000000</td>\n",
              "      <td>8.560000e+02</td>\n",
              "      <td>856.000000</td>\n",
              "    </tr>\n",
              "    <tr>\n",
              "      <th>mean</th>\n",
              "      <td>2012.496495</td>\n",
              "      <td>70.537734</td>\n",
              "      <td>158.870327</td>\n",
              "      <td>4.302114</td>\n",
              "      <td>1041.795109</td>\n",
              "      <td>39.878738</td>\n",
              "      <td>6.204692</td>\n",
              "      <td>7731.228129</td>\n",
              "      <td>1.335176e+07</td>\n",
              "      <td>12.644042</td>\n",
              "    </tr>\n",
              "    <tr>\n",
              "      <th>std</th>\n",
              "      <td>1.707907</td>\n",
              "      <td>8.886687</td>\n",
              "      <td>111.048267</td>\n",
              "      <td>3.785526</td>\n",
              "      <td>2326.559181</td>\n",
              "      <td>20.585326</td>\n",
              "      <td>2.606138</td>\n",
              "      <td>14796.801274</td>\n",
              "      <td>5.362515e+07</td>\n",
              "      <td>2.973853</td>\n",
              "    </tr>\n",
              "    <tr>\n",
              "      <th>min</th>\n",
              "      <td>2010.000000</td>\n",
              "      <td>36.300000</td>\n",
              "      <td>1.000000</td>\n",
              "      <td>0.010000</td>\n",
              "      <td>0.108056</td>\n",
              "      <td>2.000000</td>\n",
              "      <td>0.760000</td>\n",
              "      <td>8.376432</td>\n",
              "      <td>4.100000e+01</td>\n",
              "      <td>4.500000</td>\n",
              "    </tr>\n",
              "    <tr>\n",
              "      <th>25%</th>\n",
              "      <td>2011.000000</td>\n",
              "      <td>63.800000</td>\n",
              "      <td>70.500000</td>\n",
              "      <td>0.430000</td>\n",
              "      <td>67.694359</td>\n",
              "      <td>22.175000</td>\n",
              "      <td>4.395000</td>\n",
              "      <td>686.911106</td>\n",
              "      <td>2.483085e+05</td>\n",
              "      <td>10.600000</td>\n",
              "    </tr>\n",
              "    <tr>\n",
              "      <th>50%</th>\n",
              "      <td>2012.500000</td>\n",
              "      <td>72.700000</td>\n",
              "      <td>141.000000</td>\n",
              "      <td>4.300000</td>\n",
              "      <td>371.111647</td>\n",
              "      <td>45.000000</td>\n",
              "      <td>5.930000</td>\n",
              "      <td>2616.285584</td>\n",
              "      <td>1.515082e+06</td>\n",
              "      <td>12.700000</td>\n",
              "    </tr>\n",
              "    <tr>\n",
              "      <th>75%</th>\n",
              "      <td>2014.000000</td>\n",
              "      <td>76.200000</td>\n",
              "      <td>227.250000</td>\n",
              "      <td>6.892500</td>\n",
              "      <td>1041.795109</td>\n",
              "      <td>58.500000</td>\n",
              "      <td>8.107500</td>\n",
              "      <td>7130.859259</td>\n",
              "      <td>8.276836e+06</td>\n",
              "      <td>14.800000</td>\n",
              "    </tr>\n",
              "    <tr>\n",
              "      <th>max</th>\n",
              "      <td>2015.000000</td>\n",
              "      <td>89.000000</td>\n",
              "      <td>682.000000</td>\n",
              "      <td>17.310000</td>\n",
              "      <td>19479.911610</td>\n",
              "      <td>83.300000</td>\n",
              "      <td>16.610000</td>\n",
              "      <td>119172.741800</td>\n",
              "      <td>1.293859e+09</td>\n",
              "      <td>20.400000</td>\n",
              "    </tr>\n",
              "  </tbody>\n",
              "</table>\n",
              "</div>\n",
              "      <button class=\"colab-df-convert\" onclick=\"convertToInteractive('df-de09ccb6-0e7b-4c8f-90c9-f6948b469817')\"\n",
              "              title=\"Convert this dataframe to an interactive table.\"\n",
              "              style=\"display:none;\">\n",
              "        \n",
              "  <svg xmlns=\"http://www.w3.org/2000/svg\" height=\"24px\"viewBox=\"0 0 24 24\"\n",
              "       width=\"24px\">\n",
              "    <path d=\"M0 0h24v24H0V0z\" fill=\"none\"/>\n",
              "    <path d=\"M18.56 5.44l.94 2.06.94-2.06 2.06-.94-2.06-.94-.94-2.06-.94 2.06-2.06.94zm-11 1L8.5 8.5l.94-2.06 2.06-.94-2.06-.94L8.5 2.5l-.94 2.06-2.06.94zm10 10l.94 2.06.94-2.06 2.06-.94-2.06-.94-.94-2.06-.94 2.06-2.06.94z\"/><path d=\"M17.41 7.96l-1.37-1.37c-.4-.4-.92-.59-1.43-.59-.52 0-1.04.2-1.43.59L10.3 9.45l-7.72 7.72c-.78.78-.78 2.05 0 2.83L4 21.41c.39.39.9.59 1.41.59.51 0 1.02-.2 1.41-.59l7.78-7.78 2.81-2.81c.8-.78.8-2.07 0-2.86zM5.41 20L4 18.59l7.72-7.72 1.47 1.35L5.41 20z\"/>\n",
              "  </svg>\n",
              "      </button>\n",
              "      \n",
              "  <style>\n",
              "    .colab-df-container {\n",
              "      display:flex;\n",
              "      flex-wrap:wrap;\n",
              "      gap: 12px;\n",
              "    }\n",
              "\n",
              "    .colab-df-convert {\n",
              "      background-color: #E8F0FE;\n",
              "      border: none;\n",
              "      border-radius: 50%;\n",
              "      cursor: pointer;\n",
              "      display: none;\n",
              "      fill: #1967D2;\n",
              "      height: 32px;\n",
              "      padding: 0 0 0 0;\n",
              "      width: 32px;\n",
              "    }\n",
              "\n",
              "    .colab-df-convert:hover {\n",
              "      background-color: #E2EBFA;\n",
              "      box-shadow: 0px 1px 2px rgba(60, 64, 67, 0.3), 0px 1px 3px 1px rgba(60, 64, 67, 0.15);\n",
              "      fill: #174EA6;\n",
              "    }\n",
              "\n",
              "    [theme=dark] .colab-df-convert {\n",
              "      background-color: #3B4455;\n",
              "      fill: #D2E3FC;\n",
              "    }\n",
              "\n",
              "    [theme=dark] .colab-df-convert:hover {\n",
              "      background-color: #434B5C;\n",
              "      box-shadow: 0px 1px 3px 1px rgba(0, 0, 0, 0.15);\n",
              "      filter: drop-shadow(0px 1px 2px rgba(0, 0, 0, 0.3));\n",
              "      fill: #FFFFFF;\n",
              "    }\n",
              "  </style>\n",
              "\n",
              "      <script>\n",
              "        const buttonEl =\n",
              "          document.querySelector('#df-de09ccb6-0e7b-4c8f-90c9-f6948b469817 button.colab-df-convert');\n",
              "        buttonEl.style.display =\n",
              "          google.colab.kernel.accessAllowed ? 'block' : 'none';\n",
              "\n",
              "        async function convertToInteractive(key) {\n",
              "          const element = document.querySelector('#df-de09ccb6-0e7b-4c8f-90c9-f6948b469817');\n",
              "          const dataTable =\n",
              "            await google.colab.kernel.invokeFunction('convertToInteractive',\n",
              "                                                     [key], {});\n",
              "          if (!dataTable) return;\n",
              "\n",
              "          const docLinkHtml = 'Like what you see? Visit the ' +\n",
              "            '<a target=\"_blank\" href=https://colab.research.google.com/notebooks/data_table.ipynb>data table notebook</a>'\n",
              "            + ' to learn more about interactive tables.';\n",
              "          element.innerHTML = '';\n",
              "          dataTable['output_type'] = 'display_data';\n",
              "          await google.colab.output.renderOutput(dataTable, element);\n",
              "          const docLink = document.createElement('div');\n",
              "          docLink.innerHTML = docLinkHtml;\n",
              "          element.appendChild(docLink);\n",
              "        }\n",
              "      </script>\n",
              "    </div>\n",
              "  </div>\n",
              "  "
            ],
            "text/plain": [
              "              Year  Life_Expectancy  Adult_Mortality     Alcohol  \\\n",
              "count   856.000000       856.000000       856.000000  856.000000   \n",
              "mean   2012.496495        70.537734       158.870327    4.302114   \n",
              "std       1.707907         8.886687       111.048267    3.785526   \n",
              "min    2010.000000        36.300000         1.000000    0.010000   \n",
              "25%    2011.000000        63.800000        70.500000    0.430000   \n",
              "50%    2012.500000        72.700000       141.000000    4.300000   \n",
              "75%    2014.000000        76.200000       227.250000    6.892500   \n",
              "max    2015.000000        89.000000       682.000000   17.310000   \n",
              "\n",
              "       Percentage_Expenditure         BMI  Total_Expenditure            GDP  \\\n",
              "count              856.000000  856.000000         714.000000     856.000000   \n",
              "mean              1041.795109   39.878738           6.204692    7731.228129   \n",
              "std               2326.559181   20.585326           2.606138   14796.801274   \n",
              "min                  0.108056    2.000000           0.760000       8.376432   \n",
              "25%                 67.694359   22.175000           4.395000     686.911106   \n",
              "50%                371.111647   45.000000           5.930000    2616.285584   \n",
              "75%               1041.795109   58.500000           8.107500    7130.859259   \n",
              "max              19479.911610   83.300000          16.610000  119172.741800   \n",
              "\n",
              "         Population   Schooling  \n",
              "count  8.560000e+02  856.000000  \n",
              "mean   1.335176e+07   12.644042  \n",
              "std    5.362515e+07    2.973853  \n",
              "min    4.100000e+01    4.500000  \n",
              "25%    2.483085e+05   10.600000  \n",
              "50%    1.515082e+06   12.700000  \n",
              "75%    8.276836e+06   14.800000  \n",
              "max    1.293859e+09   20.400000  "
            ]
          },
          "metadata": {},
          "execution_count": 24
        }
      ]
    },
    {
      "cell_type": "markdown",
      "source": [
        "### **Data Visualization**"
      ],
      "metadata": {
        "id": "MS6cmQqh6tcR"
      }
    },
    {
      "cell_type": "code",
      "source": [
        "# histograms of numeric attributes\n",
        "\n",
        "LifeExpectancyDF.hist(bins=50, figsize=(20,15), column=['Adult_Mortality', 'Alcohol', 'Percentage_Expenditure', 'BMI', 'Total_Expenditure', 'GDP', 'Population', 'Schooling'])\n",
        "\n"
      ],
      "metadata": {
        "colab": {
          "base_uri": "https://localhost:8080/",
          "height": 1000
        },
        "id": "MAQFLS836vrx",
        "outputId": "9182e137-69f2-4e3a-d46a-8bf9d72a4c20"
      },
      "execution_count": null,
      "outputs": [
        {
          "output_type": "execute_result",
          "data": {
            "text/plain": [
              "array([[<matplotlib.axes._subplots.AxesSubplot object at 0x7f537f8fd910>,\n",
              "        <matplotlib.axes._subplots.AxesSubplot object at 0x7f537f8c9b10>,\n",
              "        <matplotlib.axes._subplots.AxesSubplot object at 0x7f537f898610>],\n",
              "       [<matplotlib.axes._subplots.AxesSubplot object at 0x7f537f849ed0>,\n",
              "        <matplotlib.axes._subplots.AxesSubplot object at 0x7f537f80c510>,\n",
              "        <matplotlib.axes._subplots.AxesSubplot object at 0x7f537f7c3b10>],\n",
              "       [<matplotlib.axes._subplots.AxesSubplot object at 0x7f537f7861d0>,\n",
              "        <matplotlib.axes._subplots.AxesSubplot object at 0x7f537f73c710>,\n",
              "        <matplotlib.axes._subplots.AxesSubplot object at 0x7f537f73c750>]],\n",
              "      dtype=object)"
            ]
          },
          "metadata": {},
          "execution_count": 25
        },
        {
          "output_type": "display_data",
          "data": {
            "image/png": "[encoded data removed]",
            "text/plain": [
              "<Figure size 1440x1080 with 9 Axes>"
            ]
          },
          "metadata": {
            "needs_background": "light"
          }
        }
      ]
    },
    {
      "cell_type": "markdown",
      "source": [
        "## **Pearson-r Correlations**\n",
        "\n"
      ],
      "metadata": {
        "id": "udjiMg_E7LRl"
      }
    },
    {
      "cell_type": "code",
      "source": [
        "# Sort the values to see which attributes have strong and weak relationships with LE\n",
        "\n",
        "corr_matrix = LifeExpectancyDF.corr()\n",
        "corr_matrix['Life_Expectancy'].sort_values(ascending=False)\n",
        "\n",
        "\n"
      ],
      "metadata": {
        "colab": {
          "base_uri": "https://localhost:8080/"
        },
        "id": "UkD5nOpJ7PDb",
        "outputId": "d64a1587-33a3-48e6-85c9-a7dc6b94d959"
      },
      "execution_count": null,
      "outputs": [
        {
          "output_type": "execute_result",
          "data": {
            "text/plain": [
              "Life_Expectancy           1.000000\n",
              "Schooling                 0.803624\n",
              "BMI                       0.521775\n",
              "GDP                       0.465786\n",
              "Alcohol                   0.436436\n",
              "Percentage_Expenditure    0.392767\n",
              "Total_Expenditure         0.255542\n",
              "Year                      0.061114\n",
              "Population               -0.033486\n",
              "Adult_Mortality          -0.748740\n",
              "Name: Life_Expectancy, dtype: float64"
            ]
          },
          "metadata": {},
          "execution_count": 26
        }
      ]
    },
    {
      "cell_type": "markdown",
      "source": [
        "### **Note**\n",
        "\n",
        "* Schooling seems to be highly correlated with life expectancy\n",
        "* BMI, GDP, GDP, Alcohol, etc. have a mild correlation with Life Expectancy\n",
        "* Adult Mortality has a rather strong negative correlation with LE\n"
      ],
      "metadata": {
        "id": "r20-I9QU8_1a"
      }
    },
    {
      "cell_type": "code",
      "source": [
        "# draw the heatmap of the correlation matrix\n",
        "\n",
        "corr_matrix.style.background_gradient()\n",
        "\n",
        "\n",
        "\n"
      ],
      "metadata": {
        "colab": {
          "base_uri": "https://localhost:8080/",
          "height": 363
        },
        "id": "1K5ZcohF75Hs",
        "outputId": "ef4b0542-86f7-4579-b8ea-5efcf867099e"
      },
      "execution_count": null,
      "outputs": [
        {
          "output_type": "execute_result",
          "data": {
            "text/html": [
              "<style type=\"text/css\">\n",
              "#T_b5b15_row0_col0, #T_b5b15_row1_col1, #T_b5b15_row2_col2, #T_b5b15_row3_col3, #T_b5b15_row4_col4, #T_b5b15_row5_col5, #T_b5b15_row6_col6, #T_b5b15_row7_col7, #T_b5b15_row8_col8, #T_b5b15_row9_col9 {\n",
              "  background-color: #023858;\n",
              "  color: #f1f1f1;\n",
              "}\n",
              "#T_b5b15_row0_col1 {\n",
              "  background-color: #83afd3;\n",
              "  color: #f1f1f1;\n",
              "}\n",
              "#T_b5b15_row0_col2, #T_b5b15_row5_col3, #T_b5b15_row8_col1 {\n",
              "  background-color: #99b8d8;\n",
              "  color: #000000;\n",
              "}\n",
              "#T_b5b15_row0_col3 {\n",
              "  background-color: #f2ecf5;\n",
              "  color: #000000;\n",
              "}\n",
              "#T_b5b15_row0_col4, #T_b5b15_row5_col2, #T_b5b15_row8_col7 {\n",
              "  background-color: #d9d8ea;\n",
              "  color: #000000;\n",
              "}\n",
              "#T_b5b15_row0_col5 {\n",
              "  background-color: #bbc7e0;\n",
              "  color: #000000;\n",
              "}\n",
              "#T_b5b15_row0_col6 {\n",
              "  background-color: #e7e3f0;\n",
              "  color: #000000;\n",
              "}\n",
              "#T_b5b15_row0_col7 {\n",
              "  background-color: #d7d6e9;\n",
              "  color: #000000;\n",
              "}\n",
              "#T_b5b15_row0_col8, #T_b5b15_row2_col8 {\n",
              "  background-color: #f1ebf5;\n",
              "  color: #000000;\n",
              "}\n",
              "#T_b5b15_row0_col9 {\n",
              "  background-color: #9ebad9;\n",
              "  color: #000000;\n",
              "}\n",
              "#T_b5b15_row1_col0, #T_b5b15_row9_col0 {\n",
              "  background-color: #e4e1ef;\n",
              "  color: #000000;\n",
              "}\n",
              "#T_b5b15_row1_col2, #T_b5b15_row2_col1, #T_b5b15_row2_col3, #T_b5b15_row2_col4, #T_b5b15_row2_col5, #T_b5b15_row2_col6, #T_b5b15_row2_col7, #T_b5b15_row2_col9, #T_b5b15_row3_col0, #T_b5b15_row5_col8, #T_b5b15_row6_col8 {\n",
              "  background-color: #fff7fb;\n",
              "  color: #000000;\n",
              "}\n",
              "#T_b5b15_row1_col3 {\n",
              "  background-color: #60a1ca;\n",
              "  color: #f1f1f1;\n",
              "}\n",
              "#T_b5b15_row1_col4 {\n",
              "  background-color: #6da6cd;\n",
              "  color: #f1f1f1;\n",
              "}\n",
              "#T_b5b15_row1_col5, #T_b5b15_row4_col1 {\n",
              "  background-color: #2a88bc;\n",
              "  color: #f1f1f1;\n",
              "}\n",
              "#T_b5b15_row1_col6 {\n",
              "  background-color: #afc1dd;\n",
              "  color: #000000;\n",
              "}\n",
              "#T_b5b15_row1_col7 {\n",
              "  background-color: #4897c4;\n",
              "  color: #f1f1f1;\n",
              "}\n",
              "#T_b5b15_row1_col8, #T_b5b15_row3_col8, #T_b5b15_row4_col8 {\n",
              "  background-color: #f9f2f8;\n",
              "  color: #000000;\n",
              "}\n",
              "#T_b5b15_row1_col9 {\n",
              "  background-color: #045a8d;\n",
              "  color: #f1f1f1;\n",
              "}\n",
              "#T_b5b15_row2_col0 {\n",
              "  background-color: #f3edf5;\n",
              "  color: #000000;\n",
              "}\n",
              "#T_b5b15_row3_col1, #T_b5b15_row5_col9 {\n",
              "  background-color: #2182b9;\n",
              "  color: #f1f1f1;\n",
              "}\n",
              "#T_b5b15_row3_col2 {\n",
              "  background-color: #c0c9e2;\n",
              "  color: #000000;\n",
              "}\n",
              "#T_b5b15_row3_col4, #T_b5b15_row9_col4 {\n",
              "  background-color: #6fa7ce;\n",
              "  color: #f1f1f1;\n",
              "}\n",
              "#T_b5b15_row3_col5, #T_b5b15_row7_col5 {\n",
              "  background-color: #7eadd1;\n",
              "  color: #f1f1f1;\n",
              "}\n",
              "#T_b5b15_row3_col6 {\n",
              "  background-color: #b1c2de;\n",
              "  color: #000000;\n",
              "}\n",
              "#T_b5b15_row3_col7 {\n",
              "  background-color: #5a9ec9;\n",
              "  color: #f1f1f1;\n",
              "}\n",
              "#T_b5b15_row3_col9 {\n",
              "  background-color: #187cb6;\n",
              "  color: #f1f1f1;\n",
              "}\n",
              "#T_b5b15_row4_col0 {\n",
              "  background-color: #eee8f3;\n",
              "  color: #000000;\n",
              "}\n",
              "#T_b5b15_row4_col2, #T_b5b15_row5_col6 {\n",
              "  background-color: #c4cbe3;\n",
              "  color: #000000;\n",
              "}\n",
              "#T_b5b15_row4_col3 {\n",
              "  background-color: #75a9cf;\n",
              "  color: #f1f1f1;\n",
              "}\n",
              "#T_b5b15_row4_col5, #T_b5b15_row6_col7 {\n",
              "  background-color: #8eb3d5;\n",
              "  color: #000000;\n",
              "}\n",
              "#T_b5b15_row4_col6 {\n",
              "  background-color: #abbfdc;\n",
              "  color: #000000;\n",
              "}\n",
              "#T_b5b15_row4_col7, #T_b5b15_row7_col4 {\n",
              "  background-color: #034c78;\n",
              "  color: #f1f1f1;\n",
              "}\n",
              "#T_b5b15_row4_col9 {\n",
              "  background-color: #4094c3;\n",
              "  color: #f1f1f1;\n",
              "}\n",
              "#T_b5b15_row5_col0 {\n",
              "  background-color: #e6e2ef;\n",
              "  color: #000000;\n",
              "}\n",
              "#T_b5b15_row5_col1 {\n",
              "  background-color: #0f76b3;\n",
              "  color: #f1f1f1;\n",
              "}\n",
              "#T_b5b15_row5_col4 {\n",
              "  background-color: #a7bddb;\n",
              "  color: #000000;\n",
              "}\n",
              "#T_b5b15_row5_col7 {\n",
              "  background-color: #8cb3d5;\n",
              "  color: #000000;\n",
              "}\n",
              "#T_b5b15_row6_col0, #T_b5b15_row8_col0 {\n",
              "  background-color: #ece7f2;\n",
              "  color: #000000;\n",
              "}\n",
              "#T_b5b15_row6_col1 {\n",
              "  background-color: #4e9ac6;\n",
              "  color: #f1f1f1;\n",
              "}\n",
              "#T_b5b15_row6_col2 {\n",
              "  background-color: #b0c2de;\n",
              "  color: #000000;\n",
              "}\n",
              "#T_b5b15_row6_col3 {\n",
              "  background-color: #a1bbda;\n",
              "  color: #000000;\n",
              "}\n",
              "#T_b5b15_row6_col4 {\n",
              "  background-color: #96b6d7;\n",
              "  color: #000000;\n",
              "}\n",
              "#T_b5b15_row6_col5 {\n",
              "  background-color: #97b7d7;\n",
              "  color: #000000;\n",
              "}\n",
              "#T_b5b15_row6_col9 {\n",
              "  background-color: #62a2cb;\n",
              "  color: #f1f1f1;\n",
              "}\n",
              "#T_b5b15_row7_col0 {\n",
              "  background-color: #f1ebf4;\n",
              "  color: #000000;\n",
              "}\n",
              "#T_b5b15_row7_col1 {\n",
              "  background-color: #1b7eb7;\n",
              "  color: #f1f1f1;\n",
              "}\n",
              "#T_b5b15_row7_col2 {\n",
              "  background-color: #ced0e6;\n",
              "  color: #000000;\n",
              "}\n",
              "#T_b5b15_row7_col3 {\n",
              "  background-color: #67a4cc;\n",
              "  color: #f1f1f1;\n",
              "}\n",
              "#T_b5b15_row7_col6 {\n",
              "  background-color: #acc0dd;\n",
              "  color: #000000;\n",
              "}\n",
              "#T_b5b15_row7_col8 {\n",
              "  background-color: #f8f1f8;\n",
              "  color: #000000;\n",
              "}\n",
              "#T_b5b15_row7_col9 {\n",
              "  background-color: #2685bb;\n",
              "  color: #f1f1f1;\n",
              "}\n",
              "#T_b5b15_row8_col2 {\n",
              "  background-color: #8bb2d4;\n",
              "  color: #000000;\n",
              "}\n",
              "#T_b5b15_row8_col3 {\n",
              "  background-color: #e5e1ef;\n",
              "  color: #000000;\n",
              "}\n",
              "#T_b5b15_row8_col4 {\n",
              "  background-color: #e1dfed;\n",
              "  color: #000000;\n",
              "}\n",
              "#T_b5b15_row8_col5 {\n",
              "  background-color: #d6d6e9;\n",
              "  color: #000000;\n",
              "}\n",
              "#T_b5b15_row8_col6 {\n",
              "  background-color: #f6eff7;\n",
              "  color: #000000;\n",
              "}\n",
              "#T_b5b15_row8_col9 {\n",
              "  background-color: #b7c5df;\n",
              "  color: #000000;\n",
              "}\n",
              "#T_b5b15_row9_col1 {\n",
              "  background-color: #045687;\n",
              "  color: #f1f1f1;\n",
              "}\n",
              "#T_b5b15_row9_col2 {\n",
              "  background-color: #eee9f3;\n",
              "  color: #000000;\n",
              "}\n",
              "#T_b5b15_row9_col3 {\n",
              "  background-color: #3991c1;\n",
              "  color: #f1f1f1;\n",
              "}\n",
              "#T_b5b15_row9_col5 {\n",
              "  background-color: #308cbe;\n",
              "  color: #f1f1f1;\n",
              "}\n",
              "#T_b5b15_row9_col6 {\n",
              "  background-color: #a8bedc;\n",
              "  color: #000000;\n",
              "}\n",
              "#T_b5b15_row9_col7 {\n",
              "  background-color: #4295c3;\n",
              "  color: #f1f1f1;\n",
              "}\n",
              "#T_b5b15_row9_col8 {\n",
              "  background-color: #fbf4f9;\n",
              "  color: #000000;\n",
              "}\n",
              "</style>\n",
              "<table id=\"T_b5b15_\" class=\"dataframe\">\n",
              "  <thead>\n",
              "    <tr>\n",
              "      <th class=\"blank level0\" >&nbsp;</th>\n",
              "      <th class=\"col_heading level0 col0\" >Year</th>\n",
              "      <th class=\"col_heading level0 col1\" >Life_Expectancy</th>\n",
              "      <th class=\"col_heading level0 col2\" >Adult_Mortality</th>\n",
              "      <th class=\"col_heading level0 col3\" >Alcohol</th>\n",
              "      <th class=\"col_heading level0 col4\" >Percentage_Expenditure</th>\n",
              "      <th class=\"col_heading level0 col5\" >BMI</th>\n",
              "      <th class=\"col_heading level0 col6\" >Total_Expenditure</th>\n",
              "      <th class=\"col_heading level0 col7\" >GDP</th>\n",
              "      <th class=\"col_heading level0 col8\" >Population</th>\n",
              "      <th class=\"col_heading level0 col9\" >Schooling</th>\n",
              "    </tr>\n",
              "  </thead>\n",
              "  <tbody>\n",
              "    <tr>\n",
              "      <th id=\"T_b5b15_level0_row0\" class=\"row_heading level0 row0\" >Year</th>\n",
              "      <td id=\"T_b5b15_row0_col0\" class=\"data row0 col0\" >1.000000</td>\n",
              "      <td id=\"T_b5b15_row0_col1\" class=\"data row0 col1\" >0.061114</td>\n",
              "      <td id=\"T_b5b15_row0_col2\" class=\"data row0 col2\" >-0.031863</td>\n",
              "      <td id=\"T_b5b15_row0_col3\" class=\"data row0 col3\" >-0.119668</td>\n",
              "      <td id=\"T_b5b15_row0_col4\" class=\"data row0 col4\" >0.010027</td>\n",
              "      <td id=\"T_b5b15_row0_col5\" class=\"data row0 col5\" >0.051678</td>\n",
              "      <td id=\"T_b5b15_row0_col6\" class=\"data row0 col6\" >0.023476</td>\n",
              "      <td id=\"T_b5b15_row0_col7\" class=\"data row0 col7\" >-0.013134</td>\n",
              "      <td id=\"T_b5b15_row0_col8\" class=\"data row0 col8\" >0.023245</td>\n",
              "      <td id=\"T_b5b15_row0_col9\" class=\"data row0 col9\" >0.060444</td>\n",
              "    </tr>\n",
              "    <tr>\n",
              "      <th id=\"T_b5b15_level0_row1\" class=\"row_heading level0 row1\" >Life_Expectancy</th>\n",
              "      <td id=\"T_b5b15_row1_col0\" class=\"data row1 col0\" >0.061114</td>\n",
              "      <td id=\"T_b5b15_row1_col1\" class=\"data row1 col1\" >1.000000</td>\n",
              "      <td id=\"T_b5b15_row1_col2\" class=\"data row1 col2\" >-0.748740</td>\n",
              "      <td id=\"T_b5b15_row1_col3\" class=\"data row1 col3\" >0.436436</td>\n",
              "      <td id=\"T_b5b15_row1_col4\" class=\"data row1 col4\" >0.392767</td>\n",
              "      <td id=\"T_b5b15_row1_col5\" class=\"data row1 col5\" >0.521775</td>\n",
              "      <td id=\"T_b5b15_row1_col6\" class=\"data row1 col6\" >0.255542</td>\n",
              "      <td id=\"T_b5b15_row1_col7\" class=\"data row1 col7\" >0.465786</td>\n",
              "      <td id=\"T_b5b15_row1_col8\" class=\"data row1 col8\" >-0.033486</td>\n",
              "      <td id=\"T_b5b15_row1_col9\" class=\"data row1 col9\" >0.803624</td>\n",
              "    </tr>\n",
              "    <tr>\n",
              "      <th id=\"T_b5b15_level0_row2\" class=\"row_heading level0 row2\" >Adult_Mortality</th>\n",
              "      <td id=\"T_b5b15_row2_col0\" class=\"data row2 col0\" >-0.031863</td>\n",
              "      <td id=\"T_b5b15_row2_col1\" class=\"data row2 col1\" >-0.748740</td>\n",
              "      <td id=\"T_b5b15_row2_col2\" class=\"data row2 col2\" >1.000000</td>\n",
              "      <td id=\"T_b5b15_row2_col3\" class=\"data row2 col3\" >-0.226645</td>\n",
              "      <td id=\"T_b5b15_row2_col4\" class=\"data row2 col4\" >-0.249771</td>\n",
              "      <td id=\"T_b5b15_row2_col5\" class=\"data row2 col5\" >-0.385611</td>\n",
              "      <td id=\"T_b5b15_row2_col6\" class=\"data row2 col6\" >-0.143951</td>\n",
              "      <td id=\"T_b5b15_row2_col7\" class=\"data row2 col7\" >-0.297908</td>\n",
              "      <td id=\"T_b5b15_row2_col8\" class=\"data row2 col8\" >0.024512</td>\n",
              "      <td id=\"T_b5b15_row2_col9\" class=\"data row2 col9\" >-0.552962</td>\n",
              "    </tr>\n",
              "    <tr>\n",
              "      <th id=\"T_b5b15_level0_row3\" class=\"row_heading level0 row3\" >Alcohol</th>\n",
              "      <td id=\"T_b5b15_row3_col0\" class=\"data row3 col0\" >-0.119668</td>\n",
              "      <td id=\"T_b5b15_row3_col1\" class=\"data row3 col1\" >0.436436</td>\n",
              "      <td id=\"T_b5b15_row3_col2\" class=\"data row3 col2\" >-0.226645</td>\n",
              "      <td id=\"T_b5b15_row3_col3\" class=\"data row3 col3\" >1.000000</td>\n",
              "      <td id=\"T_b5b15_row3_col4\" class=\"data row3 col4\" >0.385273</td>\n",
              "      <td id=\"T_b5b15_row3_col5\" class=\"data row3 col5\" >0.273623</td>\n",
              "      <td id=\"T_b5b15_row3_col6\" class=\"data row3 col6\" >0.248931</td>\n",
              "      <td id=\"T_b5b15_row3_col7\" class=\"data row3 col7\" >0.417021</td>\n",
              "      <td id=\"T_b5b15_row3_col8\" class=\"data row3 col8\" >-0.030778</td>\n",
              "      <td id=\"T_b5b15_row3_col9\" class=\"data row3 col9\" >0.535193</td>\n",
              "    </tr>\n",
              "    <tr>\n",
              "      <th id=\"T_b5b15_level0_row4\" class=\"row_heading level0 row4\" >Percentage_Expenditure</th>\n",
              "      <td id=\"T_b5b15_row4_col0\" class=\"data row4 col0\" >0.010027</td>\n",
              "      <td id=\"T_b5b15_row4_col1\" class=\"data row4 col1\" >0.392767</td>\n",
              "      <td id=\"T_b5b15_row4_col2\" class=\"data row4 col2\" >-0.249771</td>\n",
              "      <td id=\"T_b5b15_row4_col3\" class=\"data row4 col3\" >0.385273</td>\n",
              "      <td id=\"T_b5b15_row4_col4\" class=\"data row4 col4\" >1.000000</td>\n",
              "      <td id=\"T_b5b15_row4_col5\" class=\"data row4 col5\" >0.215354</td>\n",
              "      <td id=\"T_b5b15_row4_col6\" class=\"data row4 col6\" >0.269932</td>\n",
              "      <td id=\"T_b5b15_row4_col7\" class=\"data row4 col7\" >0.903112</td>\n",
              "      <td id=\"T_b5b15_row4_col8\" class=\"data row4 col8\" >-0.032929</td>\n",
              "      <td id=\"T_b5b15_row4_col9\" class=\"data row4 col9\" >0.385922</td>\n",
              "    </tr>\n",
              "    <tr>\n",
              "      <th id=\"T_b5b15_level0_row5\" class=\"row_heading level0 row5\" >BMI</th>\n",
              "      <td id=\"T_b5b15_row5_col0\" class=\"data row5 col0\" >0.051678</td>\n",
              "      <td id=\"T_b5b15_row5_col1\" class=\"data row5 col1\" >0.521775</td>\n",
              "      <td id=\"T_b5b15_row5_col2\" class=\"data row5 col2\" >-0.385611</td>\n",
              "      <td id=\"T_b5b15_row5_col3\" class=\"data row5 col3\" >0.273623</td>\n",
              "      <td id=\"T_b5b15_row5_col4\" class=\"data row5 col4\" >0.215354</td>\n",
              "      <td id=\"T_b5b15_row5_col5\" class=\"data row5 col5\" >1.000000</td>\n",
              "      <td id=\"T_b5b15_row5_col6\" class=\"data row5 col6\" >0.185625</td>\n",
              "      <td id=\"T_b5b15_row5_col7\" class=\"data row5 col7\" >0.271483</td>\n",
              "      <td id=\"T_b5b15_row5_col8\" class=\"data row5 col8\" >-0.074993</td>\n",
              "      <td id=\"T_b5b15_row5_col9\" class=\"data row5 col9\" >0.501067</td>\n",
              "    </tr>\n",
              "    <tr>\n",
              "      <th id=\"T_b5b15_level0_row6\" class=\"row_heading level0 row6\" >Total_Expenditure</th>\n",
              "      <td id=\"T_b5b15_row6_col0\" class=\"data row6 col0\" >0.023476</td>\n",
              "      <td id=\"T_b5b15_row6_col1\" class=\"data row6 col1\" >0.255542</td>\n",
              "      <td id=\"T_b5b15_row6_col2\" class=\"data row6 col2\" >-0.143951</td>\n",
              "      <td id=\"T_b5b15_row6_col3\" class=\"data row6 col3\" >0.248931</td>\n",
              "      <td id=\"T_b5b15_row6_col4\" class=\"data row6 col4\" >0.269932</td>\n",
              "      <td id=\"T_b5b15_row6_col5\" class=\"data row6 col5\" >0.185625</td>\n",
              "      <td id=\"T_b5b15_row6_col6\" class=\"data row6 col6\" >1.000000</td>\n",
              "      <td id=\"T_b5b15_row6_col7\" class=\"data row6 col7\" >0.265385</td>\n",
              "      <td id=\"T_b5b15_row6_col8\" class=\"data row6 col8\" >-0.075772</td>\n",
              "      <td id=\"T_b5b15_row6_col9\" class=\"data row6 col9\" >0.278723</td>\n",
              "    </tr>\n",
              "    <tr>\n",
              "      <th id=\"T_b5b15_level0_row7\" class=\"row_heading level0 row7\" >GDP</th>\n",
              "      <td id=\"T_b5b15_row7_col0\" class=\"data row7 col0\" >-0.013134</td>\n",
              "      <td id=\"T_b5b15_row7_col1\" class=\"data row7 col1\" >0.465786</td>\n",
              "      <td id=\"T_b5b15_row7_col2\" class=\"data row7 col2\" >-0.297908</td>\n",
              "      <td id=\"T_b5b15_row7_col3\" class=\"data row7 col3\" >0.417021</td>\n",
              "      <td id=\"T_b5b15_row7_col4\" class=\"data row7 col4\" >0.903112</td>\n",
              "      <td id=\"T_b5b15_row7_col5\" class=\"data row7 col5\" >0.271483</td>\n",
              "      <td id=\"T_b5b15_row7_col6\" class=\"data row7 col6\" >0.265385</td>\n",
              "      <td id=\"T_b5b15_row7_col7\" class=\"data row7 col7\" >1.000000</td>\n",
              "      <td id=\"T_b5b15_row7_col8\" class=\"data row7 col8\" >-0.028970</td>\n",
              "      <td id=\"T_b5b15_row7_col9\" class=\"data row7 col9\" >0.479453</td>\n",
              "    </tr>\n",
              "    <tr>\n",
              "      <th id=\"T_b5b15_level0_row8\" class=\"row_heading level0 row8\" >Population</th>\n",
              "      <td id=\"T_b5b15_row8_col0\" class=\"data row8 col0\" >0.023245</td>\n",
              "      <td id=\"T_b5b15_row8_col1\" class=\"data row8 col1\" >-0.033486</td>\n",
              "      <td id=\"T_b5b15_row8_col2\" class=\"data row8 col2\" >0.024512</td>\n",
              "      <td id=\"T_b5b15_row8_col3\" class=\"data row8 col3\" >-0.030778</td>\n",
              "      <td id=\"T_b5b15_row8_col4\" class=\"data row8 col4\" >-0.032929</td>\n",
              "      <td id=\"T_b5b15_row8_col5\" class=\"data row8 col5\" >-0.074993</td>\n",
              "      <td id=\"T_b5b15_row8_col6\" class=\"data row8 col6\" >-0.075772</td>\n",
              "      <td id=\"T_b5b15_row8_col7\" class=\"data row8 col7\" >-0.028970</td>\n",
              "      <td id=\"T_b5b15_row8_col8\" class=\"data row8 col8\" >1.000000</td>\n",
              "      <td id=\"T_b5b15_row8_col9\" class=\"data row8 col9\" >-0.048138</td>\n",
              "    </tr>\n",
              "    <tr>\n",
              "      <th id=\"T_b5b15_level0_row9\" class=\"row_heading level0 row9\" >Schooling</th>\n",
              "      <td id=\"T_b5b15_row9_col0\" class=\"data row9 col0\" >0.060444</td>\n",
              "      <td id=\"T_b5b15_row9_col1\" class=\"data row9 col1\" >0.803624</td>\n",
              "      <td id=\"T_b5b15_row9_col2\" class=\"data row9 col2\" >-0.552962</td>\n",
              "      <td id=\"T_b5b15_row9_col3\" class=\"data row9 col3\" >0.535193</td>\n",
              "      <td id=\"T_b5b15_row9_col4\" class=\"data row9 col4\" >0.385922</td>\n",
              "      <td id=\"T_b5b15_row9_col5\" class=\"data row9 col5\" >0.501067</td>\n",
              "      <td id=\"T_b5b15_row9_col6\" class=\"data row9 col6\" >0.278723</td>\n",
              "      <td id=\"T_b5b15_row9_col7\" class=\"data row9 col7\" >0.479453</td>\n",
              "      <td id=\"T_b5b15_row9_col8\" class=\"data row9 col8\" >-0.048138</td>\n",
              "      <td id=\"T_b5b15_row9_col9\" class=\"data row9 col9\" >1.000000</td>\n",
              "    </tr>\n",
              "  </tbody>\n",
              "</table>\n"
            ],
            "text/plain": [
              "<pandas.io.formats.style.Styler at 0x7f537eb25750>"
            ]
          },
          "metadata": {},
          "execution_count": 27
        }
      ]
    },
    {
      "cell_type": "markdown",
      "source": [
        "## **Regression Models**"
      ],
      "metadata": {
        "id": "lEnunDka-cQp"
      }
    },
    {
      "cell_type": "code",
      "source": [
        "from sklearn.linear_model import LinearRegression\n",
        "import matplotlib.pyplot as plt\n",
        "\n",
        "#######################################################\n",
        "# Model 1: Life_Expectancy vs. Schooling\n",
        "#######################################################\n",
        "X1 = LifeExpectancyDF.loc[:, 'Schooling'].values.reshape(-1,1)\n",
        "Y1 = LifeExpectancyDF.loc[:, 'Life_Expectancy'].values.reshape(-1,1)\n",
        "LRmodel1 = LinearRegression()\n",
        "\n",
        "# fit the model and make predictions\n",
        "LRmodel1.fit(X1, Y1)\n",
        "Y1_pred = LRmodel1.predict(X1)\n",
        "\n",
        "\n",
        "#######################################################\n",
        "# Model 2: Life_Expectancy vs. BMI\n",
        "#######################################################\n",
        "X2 = LifeExpectancyDF.loc[:, 'BMI'].values.reshape(-1,1)\n",
        "LRmodel2 = LinearRegression()\n",
        "\n",
        "# fit the model and make predictions\n",
        "LRmodel2.fit(X2, Y1)\n",
        "Y2_pred = LRmodel2.predict(X2)\n",
        "\n",
        "#######################################################\n",
        "# Model 3: Life_Expectancy vs. Adult Mortality\n",
        "#######################################################\n",
        "X3 = LifeExpectancyDF.loc[:, 'Adult_Mortality'].values.reshape(-1,1)\n",
        "LRmodel3 = LinearRegression()\n",
        "\n",
        "# fit the model and make predictions\n",
        "LRmodel3.fit(X3, Y1)\n",
        "Y3_pred = LRmodel3.predict(X3)\n",
        "\n",
        "\n",
        "#######################################################\n",
        "# plot all three regression models\n",
        "#######################################################\n",
        "plt.scatter(X1, Y1)\n",
        "plt.plot(X1, Y1_pred, color='red')\n",
        "plt.xlabel(\"Schooling\")\n",
        "plt.ylabel(\"Life Expectancy\")\n",
        "title1 = \"Life Expectancy = \" + str(round(LRmodel1.intercept_[0],2)) + \" + \" + str(round(LRmodel1.coef_[0][0],2)) + \" x Schooling\"\n",
        "plt.title(title1, fontsize=15)\n",
        "plt.show()\n",
        "\n",
        "\n",
        "\n",
        "plt.scatter(X2, Y1)\n",
        "plt.plot(X2, Y2_pred, color='red')\n",
        "plt.xlabel(\"BMI\")\n",
        "plt.ylabel(\"Life Expectancy\")\n",
        "title1 = \"Life Expectancy = \" + str(round(LRmodel2.intercept_[0],2)) + \" + \" + str(round(LRmodel2.coef_[0][0],2)) + \" x BMI\"\n",
        "plt.title(title1, fontsize=15)\n",
        "plt.show()\n",
        "\n",
        "\n",
        "\n",
        "plt.scatter(X3, Y1)\n",
        "plt.plot(X3, Y3_pred, color='red')\n",
        "plt.xlabel(\"Adult Mortality\")\n",
        "plt.ylabel(\"Life Expectancy\")\n",
        "title1 = \"Life Expectancy = \" + str(round(LRmodel3.intercept_[0],2)) + \" + \" + str(round(LRmodel3.coef_[0][0],2)) + \" x Adult_Mortality\"\n",
        "plt.title(title1, fontsize=15)\n",
        "plt.show()\n",
        "\n",
        "\n"
      ],
      "metadata": {
        "colab": {
          "base_uri": "https://localhost:8080/",
          "height": 857
        },
        "id": "IzfE6eKQ-lG6",
        "outputId": "89bf4780-00af-48aa-d9f6-2b4d186479c4"
      },
      "execution_count": null,
      "outputs": [
        {
          "output_type": "display_data",
          "data": {
            "image/png": "[encoded data removed]",
            "text/plain": [
              "<Figure size 432x288 with 1 Axes>"
            ]
          },
          "metadata": {
            "needs_background": "light"
          }
        },
        {
          "output_type": "display_data",
          "data": {
            "image/png": "[encoded data removed]",
            "text/plain": [
              "<Figure size 432x288 with 1 Axes>"
            ]
          },
          "metadata": {
            "needs_background": "light"
          }
        },
        {
          "output_type": "display_data",
          "data": {
            "image/png": "[encoded data removed]",
            "text/plain": [
              "<Figure size 432x288 with 1 Axes>"
            ]
          },
          "metadata": {
            "needs_background": "light"
          }
        }
      ]
    },
    {
      "cell_type": "markdown",
      "source": [
        "## **Model Comparisons**\n",
        "* Compute MSE values \n",
        "* Compute R2 scores\n",
        "* Plot the results\n",
        "\n"
      ],
      "metadata": {
        "id": "q_onEfJySQFy"
      }
    },
    {
      "cell_type": "code",
      "source": [
        "# Summarize the findings for all models\n",
        "\n",
        "from sklearn.metrics import mean_squared_error, r2_score\n",
        "import numpy as np\n",
        "\n",
        "# model 1 MSE and r2 values\n",
        "m1_mse = mean_squared_error(Y1, Y1_pred)\n",
        "m1_r2 = r2_score(Y1, Y1_pred)\n",
        "\n",
        "\n",
        "# model 2 MSE and r2 values\n",
        "m2_mse = mean_squared_error(Y1, Y2_pred)\n",
        "m2_r2 = r2_score(Y1, Y2_pred)\n",
        "\n",
        "# model 3 MSE and r2 values\n",
        "m3_mse = mean_squared_error(Y1, Y3_pred)\n",
        "m3_r2 = r2_score(Y1, Y3_pred)\n",
        "\n",
        "\n",
        "\n",
        "\n"
      ],
      "metadata": {
        "id": "jGMvx3h8SWW6"
      },
      "execution_count": null,
      "outputs": []
    },
    {
      "cell_type": "markdown",
      "source": [
        "### **Model R2 Values**\n"
      ],
      "metadata": {
        "id": "1Drjc2szJy1X"
      }
    },
    {
      "cell_type": "code",
      "source": [
        "# prepare these for plotting\n",
        "\n",
        "labels = ['Schooling', 'BMI', 'Adult_Mortality']\n",
        "mse_values = [m1_mse, m2_mse, m3_mse]\n",
        "r2_values =  [m1_r2,  m2_r2,  m3_r2]\n",
        "\n",
        "x = np.arange(len(labels))  # the label locations\n",
        "width = 0.35  # the width of the bars\n",
        "\n",
        "fig, ax = plt.subplots()\n",
        "rects1 = ax.bar(x + width/2, r2_values, width, label='R2', color='green')\n",
        "\n",
        "# Add some text for labels, title and custom x-axis tick labels, etc.\n",
        "ax.set_ylabel('Model Accuracy')\n",
        "ax.set_xticks(x)\n",
        "#ax.set_ylim(0,1)\n",
        "ax.set_xticklabels(labels)\n",
        "ax.legend(bbox_to_anchor = (1.3, 1.0), loc='upper right')\n",
        "\n",
        "plt.title('R2 Values')\n",
        "plt.show()\n",
        "\n"
      ],
      "metadata": {
        "colab": {
          "base_uri": "https://localhost:8080/",
          "height": 282
        },
        "id": "RxqE1Gq2J6k2",
        "outputId": "481b5089-663b-442a-faaa-63db8f2849ea"
      },
      "execution_count": null,
      "outputs": [
        {
          "output_type": "display_data",
          "data": {
            "image/png": "[encoded data removed]",
            "text/plain": [
              "<Figure size 432x288 with 1 Axes>"
            ]
          },
          "metadata": {
            "needs_background": "light"
          }
        }
      ]
    },
    {
      "cell_type": "markdown",
      "source": [
        "### **Model MSE Values**"
      ],
      "metadata": {
        "id": "6Sz76yHKKDVF"
      }
    },
    {
      "cell_type": "code",
      "source": [
        "fig, ax = plt.subplots()\n",
        "rects1 = ax.bar(x - width/2, mse_values, width, label='MSE', color='red')\n",
        "\n",
        "\n",
        "# Add some text for labels, title and custom x-axis tick labels, etc.\n",
        "ax.set_ylabel('Model Error')\n",
        "ax.set_xticks(x)\n",
        "#ax.set_ylim(0,1)\n",
        "ax.set_xticklabels(labels)\n",
        "ax.legend(bbox_to_anchor = (1.3, 1.0), loc='upper right')\n",
        "\n",
        "plt.title('MSE Values')\n",
        "plt.show()\n",
        "\n",
        "\n"
      ],
      "metadata": {
        "colab": {
          "base_uri": "https://localhost:8080/",
          "height": 282
        },
        "id": "2L_jTktzKH28",
        "outputId": "45d3ea0e-8326-4efb-a52c-5c8510dddb9b"
      },
      "execution_count": null,
      "outputs": [
        {
          "output_type": "display_data",
          "data": {
            "image/png": "[encoded data removed]",
            "text/plain": [
              "<Figure size 432x288 with 1 Axes>"
            ]
          },
          "metadata": {
            "needs_background": "light"
          }
        }
      ]
    },
    {
      "cell_type": "markdown",
      "source": [
        "## **Regression Model Comparisons**\n",
        "\n",
        "* Model 1 with **Schooling** has the largest R2 score and the lowest MSE value.\n",
        "* Model 2 with **BMI** has the lowest R2 score and the highest MSE value.\n",
        "* Models 1 and 3 make comparabale predictions."
      ],
      "metadata": {
        "id": "OgEsrhbpMQHA"
      }
    }
  ]
}