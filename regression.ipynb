{
  "nbformat": 4,
  "nbformat_minor": 0,
  "metadata": {
    "colab": {
      "name": "regression.ipynb",
      "provenance": [],
      "collapsed_sections": [],
      "authorship_tag": "ABX9TyPwOG+h9bjLxlArg3X4D8Mp",
      "include_colab_link": true
    },
    "kernelspec": {
      "name": "python3",
      "display_name": "Python 3"
    },
    "language_info": {
      "name": "python"
    }
  },
  "cells": [
    {
      "cell_type": "markdown",
      "metadata": {
        "id": "view-in-github",
        "colab_type": "text"
      },
      "source": [
        "<a href=\"https://colab.research.google.com/github/bforoura/IDS/blob/main/regression.ipynb\" target=\"_parent\"><img src=\"https://colab.research.google.com/assets/colab-badge.svg\" alt=\"Open In Colab\"/></a>"
      ]
    },
    {
      "cell_type": "markdown",
      "source": [
        "### **Example 3.5: Regression**\n",
        "\n",
        "* The ﬁrst variable, **attitude**, represents the amount of positive\n",
        "attitude of the students who have taken an examination\n",
        "* The **score** represents the marks scored by the participants in the examination.\n",
        "\n",
        "\n",
        "![image.png](data:image/png;base64,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)"
      ],
      "metadata": {
        "id": "aoD0v2cZKgam"
      }
    },
    {
      "cell_type": "code",
      "execution_count": 80,
      "metadata": {
        "id": "ycWaocqzKHwP"
      },
      "outputs": [],
      "source": [
        "# import some of the needed libraries\n",
        "\n",
        "import pandas as pd\n",
        "import numpy as np\n",
        "import matplotlib.pyplot as plt\n"
      ]
    },
    {
      "cell_type": "code",
      "source": [
        "# Let's create a dataframe for the data\n",
        "\n",
        "studentsDF = pd.DataFrame({\n",
        "      'Attitude': [65, 67, 68, 70, 71, 72, 72, 73, 73, 75],\n",
        "      'Score':    [129, 126, 143, 156, 161, 158, 168, 166, 182, 201],\n",
        "})\n",
        "\n",
        "\"\"\"\n",
        "An alternative: \n",
        "   data = [ [65, 129], [67, 126], [68, 143],\n",
        "            [70, 156], [71, 161], [72, 158],\n",
        "            [72, 168], [73, 166], [73, 182], \n",
        "            [75,201]]\n",
        "\n",
        "  studentsDF = pd.DataFrame(data, columns = ['Attitude', 'Score'])\n",
        "\"\"\"\n",
        "\n",
        "studentsDF\n",
        " "
      ],
      "metadata": {
        "colab": {
          "base_uri": "https://localhost:8080/",
          "height": 363
        },
        "id": "XCZx9DokKX9f",
        "outputId": "4a11daeb-29f4-4662-ca30-3ecafe0e1d6f"
      },
      "execution_count": 98,
      "outputs": [
        {
          "output_type": "execute_result",
          "data": {
            "text/html": [
              "\n",
              "  <div id=\"df-98f4bc91-92be-4503-8b4e-3b82a97c19da\">\n",
              "    <div class=\"colab-df-container\">\n",
              "      <div>\n",
              "<style scoped>\n",
              "    .dataframe tbody tr th:only-of-type {\n",
              "        vertical-align: middle;\n",
              "    }\n",
              "\n",
              "    .dataframe tbody tr th {\n",
              "        vertical-align: top;\n",
              "    }\n",
              "\n",
              "    .dataframe thead th {\n",
              "        text-align: right;\n",
              "    }\n",
              "</style>\n",
              "<table border=\"1\" class=\"dataframe\">\n",
              "  <thead>\n",
              "    <tr style=\"text-align: right;\">\n",
              "      <th></th>\n",
              "      <th>Attitude</th>\n",
              "      <th>Score</th>\n",
              "    </tr>\n",
              "  </thead>\n",
              "  <tbody>\n",
              "    <tr>\n",
              "      <th>0</th>\n",
              "      <td>65</td>\n",
              "      <td>129</td>\n",
              "    </tr>\n",
              "    <tr>\n",
              "      <th>1</th>\n",
              "      <td>67</td>\n",
              "      <td>126</td>\n",
              "    </tr>\n",
              "    <tr>\n",
              "      <th>2</th>\n",
              "      <td>68</td>\n",
              "      <td>143</td>\n",
              "    </tr>\n",
              "    <tr>\n",
              "      <th>3</th>\n",
              "      <td>70</td>\n",
              "      <td>156</td>\n",
              "    </tr>\n",
              "    <tr>\n",
              "      <th>4</th>\n",
              "      <td>71</td>\n",
              "      <td>161</td>\n",
              "    </tr>\n",
              "    <tr>\n",
              "      <th>5</th>\n",
              "      <td>72</td>\n",
              "      <td>158</td>\n",
              "    </tr>\n",
              "    <tr>\n",
              "      <th>6</th>\n",
              "      <td>72</td>\n",
              "      <td>168</td>\n",
              "    </tr>\n",
              "    <tr>\n",
              "      <th>7</th>\n",
              "      <td>73</td>\n",
              "      <td>166</td>\n",
              "    </tr>\n",
              "    <tr>\n",
              "      <th>8</th>\n",
              "      <td>73</td>\n",
              "      <td>182</td>\n",
              "    </tr>\n",
              "    <tr>\n",
              "      <th>9</th>\n",
              "      <td>75</td>\n",
              "      <td>201</td>\n",
              "    </tr>\n",
              "  </tbody>\n",
              "</table>\n",
              "</div>\n",
              "      <button class=\"colab-df-convert\" onclick=\"convertToInteractive('df-98f4bc91-92be-4503-8b4e-3b82a97c19da')\"\n",
              "              title=\"Convert this dataframe to an interactive table.\"\n",
              "              style=\"display:none;\">\n",
              "        \n",
              "  <svg xmlns=\"http://www.w3.org/2000/svg\" height=\"24px\"viewBox=\"0 0 24 24\"\n",
              "       width=\"24px\">\n",
              "    <path d=\"M0 0h24v24H0V0z\" fill=\"none\"/>\n",
              "    <path d=\"M18.56 5.44l.94 2.06.94-2.06 2.06-.94-2.06-.94-.94-2.06-.94 2.06-2.06.94zm-11 1L8.5 8.5l.94-2.06 2.06-.94-2.06-.94L8.5 2.5l-.94 2.06-2.06.94zm10 10l.94 2.06.94-2.06 2.06-.94-2.06-.94-.94-2.06-.94 2.06-2.06.94z\"/><path d=\"M17.41 7.96l-1.37-1.37c-.4-.4-.92-.59-1.43-.59-.52 0-1.04.2-1.43.59L10.3 9.45l-7.72 7.72c-.78.78-.78 2.05 0 2.83L4 21.41c.39.39.9.59 1.41.59.51 0 1.02-.2 1.41-.59l7.78-7.78 2.81-2.81c.8-.78.8-2.07 0-2.86zM5.41 20L4 18.59l7.72-7.72 1.47 1.35L5.41 20z\"/>\n",
              "  </svg>\n",
              "      </button>\n",
              "      \n",
              "  <style>\n",
              "    .colab-df-container {\n",
              "      display:flex;\n",
              "      flex-wrap:wrap;\n",
              "      gap: 12px;\n",
              "    }\n",
              "\n",
              "    .colab-df-convert {\n",
              "      background-color: #E8F0FE;\n",
              "      border: none;\n",
              "      border-radius: 50%;\n",
              "      cursor: pointer;\n",
              "      display: none;\n",
              "      fill: #1967D2;\n",
              "      height: 32px;\n",
              "      padding: 0 0 0 0;\n",
              "      width: 32px;\n",
              "    }\n",
              "\n",
              "    .colab-df-convert:hover {\n",
              "      background-color: #E2EBFA;\n",
              "      box-shadow: 0px 1px 2px rgba(60, 64, 67, 0.3), 0px 1px 3px 1px rgba(60, 64, 67, 0.15);\n",
              "      fill: #174EA6;\n",
              "    }\n",
              "\n",
              "    [theme=dark] .colab-df-convert {\n",
              "      background-color: #3B4455;\n",
              "      fill: #D2E3FC;\n",
              "    }\n",
              "\n",
              "    [theme=dark] .colab-df-convert:hover {\n",
              "      background-color: #434B5C;\n",
              "      box-shadow: 0px 1px 3px 1px rgba(0, 0, 0, 0.15);\n",
              "      filter: drop-shadow(0px 1px 2px rgba(0, 0, 0, 0.3));\n",
              "      fill: #FFFFFF;\n",
              "    }\n",
              "  </style>\n",
              "\n",
              "      <script>\n",
              "        const buttonEl =\n",
              "          document.querySelector('#df-98f4bc91-92be-4503-8b4e-3b82a97c19da button.colab-df-convert');\n",
              "        buttonEl.style.display =\n",
              "          google.colab.kernel.accessAllowed ? 'block' : 'none';\n",
              "\n",
              "        async function convertToInteractive(key) {\n",
              "          const element = document.querySelector('#df-98f4bc91-92be-4503-8b4e-3b82a97c19da');\n",
              "          const dataTable =\n",
              "            await google.colab.kernel.invokeFunction('convertToInteractive',\n",
              "                                                     [key], {});\n",
              "          if (!dataTable) return;\n",
              "\n",
              "          const docLinkHtml = 'Like what you see? Visit the ' +\n",
              "            '<a target=\"_blank\" href=https://colab.research.google.com/notebooks/data_table.ipynb>data table notebook</a>'\n",
              "            + ' to learn more about interactive tables.';\n",
              "          element.innerHTML = '';\n",
              "          dataTable['output_type'] = 'display_data';\n",
              "          await google.colab.output.renderOutput(dataTable, element);\n",
              "          const docLink = document.createElement('div');\n",
              "          docLink.innerHTML = docLinkHtml;\n",
              "          element.appendChild(docLink);\n",
              "        }\n",
              "      </script>\n",
              "    </div>\n",
              "  </div>\n",
              "  "
            ],
            "text/plain": [
              "   Attitude  Score\n",
              "0        65    129\n",
              "1        67    126\n",
              "2        68    143\n",
              "3        70    156\n",
              "4        71    161\n",
              "5        72    158\n",
              "6        72    168\n",
              "7        73    166\n",
              "8        73    182\n",
              "9        75    201"
            ]
          },
          "metadata": {},
          "execution_count": 98
        }
      ]
    },
    {
      "cell_type": "code",
      "source": [
        "# Let's convert to a numpy array\n",
        "\n",
        "studentsDF.to_numpy() \n",
        "\n"
      ],
      "metadata": {
        "colab": {
          "base_uri": "https://localhost:8080/"
        },
        "id": "1X4u1ToJY6DI",
        "outputId": "16d274b8-658f-4808-a146-2e58ba15dd14"
      },
      "execution_count": 99,
      "outputs": [
        {
          "output_type": "execute_result",
          "data": {
            "text/plain": [
              "array([[ 65, 129],\n",
              "       [ 67, 126],\n",
              "       [ 68, 143],\n",
              "       [ 70, 156],\n",
              "       [ 71, 161],\n",
              "       [ 72, 158],\n",
              "       [ 72, 168],\n",
              "       [ 73, 166],\n",
              "       [ 73, 182],\n",
              "       [ 75, 201]])"
            ]
          },
          "metadata": {},
          "execution_count": 99
        }
      ]
    },
    {
      "cell_type": "code",
      "source": [
        "# Examine the variable spreads around the means\n",
        "\n",
        "studentsDF.boxplot(figsize=(10,10))\n",
        "\n"
      ],
      "metadata": {
        "colab": {
          "base_uri": "https://localhost:8080/",
          "height": 610
        },
        "id": "QTyKQGEeMpJn",
        "outputId": "7fdd4785-ea55-439a-ce58-99acf5e84dae"
      },
      "execution_count": 82,
      "outputs": [
        {
          "output_type": "execute_result",
          "data": {
            "text/plain": [
              "<matplotlib.axes._subplots.AxesSubplot at 0x7fe245b589d0>"
            ]
          },
          "metadata": {},
          "execution_count": 82
        },
        {
          "output_type": "display_data",
          "data": {
            "image/png": "[encoded data removed]",
            "text/plain": [
              "<Figure size 720x720 with 1 Axes>"
            ]
          },
          "metadata": {
            "needs_background": "light"
          }
        }
      ]
    },
    {
      "cell_type": "code",
      "source": [
        "# Examine the covraiance matrix\n",
        "\n",
        "studentsDF.cov()\n",
        "\n"
      ],
      "metadata": {
        "colab": {
          "base_uri": "https://localhost:8080/",
          "height": 112
        },
        "id": "bT-GknU8NXr1",
        "outputId": "d2edff65-ffee-4415-c77c-9201cc537dcd"
      },
      "execution_count": 83,
      "outputs": [
        {
          "output_type": "execute_result",
          "data": {
            "text/html": [
              "\n",
              "  <div id=\"df-17eb1473-2727-433e-8f18-4c888ff31645\">\n",
              "    <div class=\"colab-df-container\">\n",
              "      <div>\n",
              "<style scoped>\n",
              "    .dataframe tbody tr th:only-of-type {\n",
              "        vertical-align: middle;\n",
              "    }\n",
              "\n",
              "    .dataframe tbody tr th {\n",
              "        vertical-align: top;\n",
              "    }\n",
              "\n",
              "    .dataframe thead th {\n",
              "        text-align: right;\n",
              "    }\n",
              "</style>\n",
              "<table border=\"1\" class=\"dataframe\">\n",
              "  <thead>\n",
              "    <tr style=\"text-align: right;\">\n",
              "      <th></th>\n",
              "      <th>Attitude</th>\n",
              "      <th>Score</th>\n",
              "    </tr>\n",
              "  </thead>\n",
              "  <tbody>\n",
              "    <tr>\n",
              "      <th>Attitude</th>\n",
              "      <td>9.600000</td>\n",
              "      <td>66.555556</td>\n",
              "    </tr>\n",
              "    <tr>\n",
              "      <th>Score</th>\n",
              "      <td>66.555556</td>\n",
              "      <td>520.222222</td>\n",
              "    </tr>\n",
              "  </tbody>\n",
              "</table>\n",
              "</div>\n",
              "      <button class=\"colab-df-convert\" onclick=\"convertToInteractive('df-17eb1473-2727-433e-8f18-4c888ff31645')\"\n",
              "              title=\"Convert this dataframe to an interactive table.\"\n",
              "              style=\"display:none;\">\n",
              "        \n",
              "  <svg xmlns=\"http://www.w3.org/2000/svg\" height=\"24px\"viewBox=\"0 0 24 24\"\n",
              "       width=\"24px\">\n",
              "    <path d=\"M0 0h24v24H0V0z\" fill=\"none\"/>\n",
              "    <path d=\"M18.56 5.44l.94 2.06.94-2.06 2.06-.94-2.06-.94-.94-2.06-.94 2.06-2.06.94zm-11 1L8.5 8.5l.94-2.06 2.06-.94-2.06-.94L8.5 2.5l-.94 2.06-2.06.94zm10 10l.94 2.06.94-2.06 2.06-.94-2.06-.94-.94-2.06-.94 2.06-2.06.94z\"/><path d=\"M17.41 7.96l-1.37-1.37c-.4-.4-.92-.59-1.43-.59-.52 0-1.04.2-1.43.59L10.3 9.45l-7.72 7.72c-.78.78-.78 2.05 0 2.83L4 21.41c.39.39.9.59 1.41.59.51 0 1.02-.2 1.41-.59l7.78-7.78 2.81-2.81c.8-.78.8-2.07 0-2.86zM5.41 20L4 18.59l7.72-7.72 1.47 1.35L5.41 20z\"/>\n",
              "  </svg>\n",
              "      </button>\n",
              "      \n",
              "  <style>\n",
              "    .colab-df-container {\n",
              "      display:flex;\n",
              "      flex-wrap:wrap;\n",
              "      gap: 12px;\n",
              "    }\n",
              "\n",
              "    .colab-df-convert {\n",
              "      background-color: #E8F0FE;\n",
              "      border: none;\n",
              "      border-radius: 50%;\n",
              "      cursor: pointer;\n",
              "      display: none;\n",
              "      fill: #1967D2;\n",
              "      height: 32px;\n",
              "      padding: 0 0 0 0;\n",
              "      width: 32px;\n",
              "    }\n",
              "\n",
              "    .colab-df-convert:hover {\n",
              "      background-color: #E2EBFA;\n",
              "      box-shadow: 0px 1px 2px rgba(60, 64, 67, 0.3), 0px 1px 3px 1px rgba(60, 64, 67, 0.15);\n",
              "      fill: #174EA6;\n",
              "    }\n",
              "\n",
              "    [theme=dark] .colab-df-convert {\n",
              "      background-color: #3B4455;\n",
              "      fill: #D2E3FC;\n",
              "    }\n",
              "\n",
              "    [theme=dark] .colab-df-convert:hover {\n",
              "      background-color: #434B5C;\n",
              "      box-shadow: 0px 1px 3px 1px rgba(0, 0, 0, 0.15);\n",
              "      filter: drop-shadow(0px 1px 2px rgba(0, 0, 0, 0.3));\n",
              "      fill: #FFFFFF;\n",
              "    }\n",
              "  </style>\n",
              "\n",
              "      <script>\n",
              "        const buttonEl =\n",
              "          document.querySelector('#df-17eb1473-2727-433e-8f18-4c888ff31645 button.colab-df-convert');\n",
              "        buttonEl.style.display =\n",
              "          google.colab.kernel.accessAllowed ? 'block' : 'none';\n",
              "\n",
              "        async function convertToInteractive(key) {\n",
              "          const element = document.querySelector('#df-17eb1473-2727-433e-8f18-4c888ff31645');\n",
              "          const dataTable =\n",
              "            await google.colab.kernel.invokeFunction('convertToInteractive',\n",
              "                                                     [key], {});\n",
              "          if (!dataTable) return;\n",
              "\n",
              "          const docLinkHtml = 'Like what you see? Visit the ' +\n",
              "            '<a target=\"_blank\" href=https://colab.research.google.com/notebooks/data_table.ipynb>data table notebook</a>'\n",
              "            + ' to learn more about interactive tables.';\n",
              "          element.innerHTML = '';\n",
              "          dataTable['output_type'] = 'display_data';\n",
              "          await google.colab.output.renderOutput(dataTable, element);\n",
              "          const docLink = document.createElement('div');\n",
              "          docLink.innerHTML = docLinkHtml;\n",
              "          element.appendChild(docLink);\n",
              "        }\n",
              "      </script>\n",
              "    </div>\n",
              "  </div>\n",
              "  "
            ],
            "text/plain": [
              "           Attitude       Score\n",
              "Attitude   9.600000   66.555556\n",
              "Score     66.555556  520.222222"
            ]
          },
          "metadata": {},
          "execution_count": 83
        }
      ]
    },
    {
      "cell_type": "markdown",
      "source": [
        "\n",
        "\n",
        "![image.png](data:image/png;base64,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)\n"
      ],
      "metadata": {
        "id": "NIsCzoGJQbMd"
      }
    },
    {
      "cell_type": "code",
      "source": [
        "# Examine the correlation matrix\n",
        "\n",
        "studentsDF.corr()\n",
        "\n"
      ],
      "metadata": {
        "colab": {
          "base_uri": "https://localhost:8080/",
          "height": 112
        },
        "id": "pKxVnfLANp2w",
        "outputId": "be58a24a-1f8a-480a-f427-b8956bba8dc4"
      },
      "execution_count": 84,
      "outputs": [
        {
          "output_type": "execute_result",
          "data": {
            "text/html": [
              "\n",
              "  <div id=\"df-76d26ef6-3c54-42df-8b98-e85810689377\">\n",
              "    <div class=\"colab-df-container\">\n",
              "      <div>\n",
              "<style scoped>\n",
              "    .dataframe tbody tr th:only-of-type {\n",
              "        vertical-align: middle;\n",
              "    }\n",
              "\n",
              "    .dataframe tbody tr th {\n",
              "        vertical-align: top;\n",
              "    }\n",
              "\n",
              "    .dataframe thead th {\n",
              "        text-align: right;\n",
              "    }\n",
              "</style>\n",
              "<table border=\"1\" class=\"dataframe\">\n",
              "  <thead>\n",
              "    <tr style=\"text-align: right;\">\n",
              "      <th></th>\n",
              "      <th>Attitude</th>\n",
              "      <th>Score</th>\n",
              "    </tr>\n",
              "  </thead>\n",
              "  <tbody>\n",
              "    <tr>\n",
              "      <th>Attitude</th>\n",
              "      <td>1.00000</td>\n",
              "      <td>0.94179</td>\n",
              "    </tr>\n",
              "    <tr>\n",
              "      <th>Score</th>\n",
              "      <td>0.94179</td>\n",
              "      <td>1.00000</td>\n",
              "    </tr>\n",
              "  </tbody>\n",
              "</table>\n",
              "</div>\n",
              "      <button class=\"colab-df-convert\" onclick=\"convertToInteractive('df-76d26ef6-3c54-42df-8b98-e85810689377')\"\n",
              "              title=\"Convert this dataframe to an interactive table.\"\n",
              "              style=\"display:none;\">\n",
              "        \n",
              "  <svg xmlns=\"http://www.w3.org/2000/svg\" height=\"24px\"viewBox=\"0 0 24 24\"\n",
              "       width=\"24px\">\n",
              "    <path d=\"M0 0h24v24H0V0z\" fill=\"none\"/>\n",
              "    <path d=\"M18.56 5.44l.94 2.06.94-2.06 2.06-.94-2.06-.94-.94-2.06-.94 2.06-2.06.94zm-11 1L8.5 8.5l.94-2.06 2.06-.94-2.06-.94L8.5 2.5l-.94 2.06-2.06.94zm10 10l.94 2.06.94-2.06 2.06-.94-2.06-.94-.94-2.06-.94 2.06-2.06.94z\"/><path d=\"M17.41 7.96l-1.37-1.37c-.4-.4-.92-.59-1.43-.59-.52 0-1.04.2-1.43.59L10.3 9.45l-7.72 7.72c-.78.78-.78 2.05 0 2.83L4 21.41c.39.39.9.59 1.41.59.51 0 1.02-.2 1.41-.59l7.78-7.78 2.81-2.81c.8-.78.8-2.07 0-2.86zM5.41 20L4 18.59l7.72-7.72 1.47 1.35L5.41 20z\"/>\n",
              "  </svg>\n",
              "      </button>\n",
              "      \n",
              "  <style>\n",
              "    .colab-df-container {\n",
              "      display:flex;\n",
              "      flex-wrap:wrap;\n",
              "      gap: 12px;\n",
              "    }\n",
              "\n",
              "    .colab-df-convert {\n",
              "      background-color: #E8F0FE;\n",
              "      border: none;\n",
              "      border-radius: 50%;\n",
              "      cursor: pointer;\n",
              "      display: none;\n",
              "      fill: #1967D2;\n",
              "      height: 32px;\n",
              "      padding: 0 0 0 0;\n",
              "      width: 32px;\n",
              "    }\n",
              "\n",
              "    .colab-df-convert:hover {\n",
              "      background-color: #E2EBFA;\n",
              "      box-shadow: 0px 1px 2px rgba(60, 64, 67, 0.3), 0px 1px 3px 1px rgba(60, 64, 67, 0.15);\n",
              "      fill: #174EA6;\n",
              "    }\n",
              "\n",
              "    [theme=dark] .colab-df-convert {\n",
              "      background-color: #3B4455;\n",
              "      fill: #D2E3FC;\n",
              "    }\n",
              "\n",
              "    [theme=dark] .colab-df-convert:hover {\n",
              "      background-color: #434B5C;\n",
              "      box-shadow: 0px 1px 3px 1px rgba(0, 0, 0, 0.15);\n",
              "      filter: drop-shadow(0px 1px 2px rgba(0, 0, 0, 0.3));\n",
              "      fill: #FFFFFF;\n",
              "    }\n",
              "  </style>\n",
              "\n",
              "      <script>\n",
              "        const buttonEl =\n",
              "          document.querySelector('#df-76d26ef6-3c54-42df-8b98-e85810689377 button.colab-df-convert');\n",
              "        buttonEl.style.display =\n",
              "          google.colab.kernel.accessAllowed ? 'block' : 'none';\n",
              "\n",
              "        async function convertToInteractive(key) {\n",
              "          const element = document.querySelector('#df-76d26ef6-3c54-42df-8b98-e85810689377');\n",
              "          const dataTable =\n",
              "            await google.colab.kernel.invokeFunction('convertToInteractive',\n",
              "                                                     [key], {});\n",
              "          if (!dataTable) return;\n",
              "\n",
              "          const docLinkHtml = 'Like what you see? Visit the ' +\n",
              "            '<a target=\"_blank\" href=https://colab.research.google.com/notebooks/data_table.ipynb>data table notebook</a>'\n",
              "            + ' to learn more about interactive tables.';\n",
              "          element.innerHTML = '';\n",
              "          dataTable['output_type'] = 'display_data';\n",
              "          await google.colab.output.renderOutput(dataTable, element);\n",
              "          const docLink = document.createElement('div');\n",
              "          docLink.innerHTML = docLinkHtml;\n",
              "          element.appendChild(docLink);\n",
              "        }\n",
              "      </script>\n",
              "    </div>\n",
              "  </div>\n",
              "  "
            ],
            "text/plain": [
              "          Attitude    Score\n",
              "Attitude   1.00000  0.94179\n",
              "Score      0.94179  1.00000"
            ]
          },
          "metadata": {},
          "execution_count": 84
        }
      ]
    },
    {
      "cell_type": "code",
      "source": [
        "# Let's verify the above results with our own code\n",
        "\n",
        "def corr_matrix(s1, s2): \n",
        "  return np.cov(s1, s2)/(np.std(s1) * np.std(s2))\n",
        "\n",
        "print(corr_matrix(studentsDF['Attitude'], studentsDF['Score']))\n",
        "\n",
        "\n",
        "\n"
      ],
      "metadata": {
        "colab": {
          "base_uri": "https://localhost:8080/"
        },
        "id": "2QGUDWsZSrJg",
        "outputId": "de034388-eb14-4301-f680-9109b382dc3b"
      },
      "execution_count": 85,
      "outputs": [
        {
          "output_type": "stream",
          "name": "stdout",
          "text": [
            "[[0.15093802 1.04643375]\n",
            " [1.04643375 8.17930351]]\n"
          ]
        }
      ]
    },
    {
      "cell_type": "code",
      "source": [
        "# the histogram\n",
        "\n",
        "studentsDF.hist(figsize=(8, 4))\n"
      ],
      "metadata": {
        "colab": {
          "base_uri": "https://localhost:8080/",
          "height": 333
        },
        "id": "xSwRNE6eN4he",
        "outputId": "099242e1-1094-4eef-c5e3-8fcab78a58d4"
      },
      "execution_count": 86,
      "outputs": [
        {
          "output_type": "execute_result",
          "data": {
            "text/plain": [
              "array([[<matplotlib.axes._subplots.AxesSubplot object at 0x7fe2542d4350>,\n",
              "        <matplotlib.axes._subplots.AxesSubplot object at 0x7fe245a31c50>]],\n",
              "      dtype=object)"
            ]
          },
          "metadata": {},
          "execution_count": 86
        },
        {
          "output_type": "display_data",
          "data": {
            "image/png": "[encoded data removed]",
            "text/plain": [
              "<Figure size 576x288 with 2 Axes>"
            ]
          },
          "metadata": {
            "needs_background": "light"
          }
        }
      ]
    },
    {
      "cell_type": "code",
      "source": [
        "# Let's draw the scatter plot\n",
        "\n",
        "studentsDF.plot.scatter(x='Attitude', y='Score', color=\"DarkGreen\")\n",
        "\n"
      ],
      "metadata": {
        "colab": {
          "base_uri": "https://localhost:8080/",
          "height": 296
        },
        "id": "WuSNsiwnQzr6",
        "outputId": "c91b65e8-f303-409a-ba2b-226f226ab26b"
      },
      "execution_count": 87,
      "outputs": [
        {
          "output_type": "execute_result",
          "data": {
            "text/plain": [
              "<matplotlib.axes._subplots.AxesSubplot at 0x7fe245994810>"
            ]
          },
          "metadata": {},
          "execution_count": 87
        },
        {
          "output_type": "display_data",
          "data": {
            "image/png": "[encoded data removed]",
            "text/plain": [
              "<Figure size 432x288 with 1 Axes>"
            ]
          },
          "metadata": {
            "needs_background": "light"
          }
        }
      ]
    },
    {
      "cell_type": "code",
      "source": [
        "# Perform regression to find the best line to goes through these points\n",
        "\n",
        "from sklearn.linear_model import LinearRegression\n",
        "\n",
        "# Save the first column (all the rows) in X\n",
        "X = studentsDF.iloc[:, 0].values.reshape(-1,1)\n",
        "\n",
        "# Save the second column (all the rows) in Y\n",
        "Y = studentsDF.iloc[:, 1].values.reshape(-1,1)\n",
        "\n",
        "# Create the model\n",
        "LRmodel = LinearRegression()  \n",
        "\n",
        "# Perform linear regression\n",
        "LRmodel.fit(X, Y)   \n",
        "\n",
        "# Make predictions\n",
        "Y_pred = LRmodel.predict(X)  \n",
        "\n",
        "\n",
        "# Visualize the dataset and the regression line:\n",
        "plt.scatter(X, Y)\n",
        "plt.plot(X, Y_pred, color='red')\n",
        "\n",
        "plt.show()\n",
        "\n"
      ],
      "metadata": {
        "colab": {
          "base_uri": "https://localhost:8080/",
          "height": 265
        },
        "id": "8xrYCJ0WVzYz",
        "outputId": "99a92d5f-7127-472b-b5f0-b90a282197a9"
      },
      "execution_count": 90,
      "outputs": [
        {
          "output_type": "display_data",
          "data": {
            "image/png": "[encoded data removed]",
            "text/plain": [
              "<Figure size 432x288 with 1 Axes>"
            ]
          },
          "metadata": {
            "needs_background": "light"
          }
        }
      ]
    },
    {
      "cell_type": "code",
      "source": [
        "# The equation of the line is:\n",
        "\n",
        "print(\"The slope: \", LRmodel.coef_)\n",
        "print(\"The intercept: \", LRmodel.intercept_)\n",
        "\n"
      ],
      "metadata": {
        "colab": {
          "base_uri": "https://localhost:8080/"
        },
        "id": "-2A1n4wJWb3Q",
        "outputId": "12679d28-af10-4d29-8f14-d8613d3064d8"
      },
      "execution_count": 78,
      "outputs": [
        {
          "output_type": "stream",
          "name": "stdout",
          "text": [
            "The slope:  [[6.93287037]]\n",
            "The intercept:  [-330.46064815]\n"
          ]
        }
      ]
    },
    {
      "cell_type": "code",
      "source": [
        "# Error analysis\n",
        "\n",
        "\n",
        "from sklearn.metrics import mean_squared_error, r2_score\n",
        "\n",
        "print(\"MSE: \", mean_squared_error(Y, Y_pred))\n",
        "print(\"R2: \", r2_score(Y, Y_pred))\n",
        "\n"
      ],
      "metadata": {
        "colab": {
          "base_uri": "https://localhost:8080/"
        },
        "id": "a03-RPphWoIe",
        "outputId": "ac73cb2e-607c-4d39-8ae2-daf6e7f20ee3"
      },
      "execution_count": 79,
      "outputs": [
        {
          "output_type": "stream",
          "name": "stdout",
          "text": [
            "MSE:  52.921064814814805\n",
            "R2:  0.8869691054788236\n"
          ]
        }
      ]
    },
    {
      "cell_type": "markdown",
      "source": [
        "### **MinMax Scaling**\n",
        "\n",
        "\n",
        "\n"
      ],
      "metadata": {
        "id": "fFGsmc5KYB3Y"
      }
    },
    {
      "cell_type": "code",
      "source": [
        "from sklearn.preprocessing import MinMaxScaler\n",
        "\n",
        "scaler = MinMaxScaler()\n",
        "\n",
        "minmax_scaled = scaler.fit_transform(studentsDF)\n",
        "\n",
        "\n",
        "studentsDF_minmax_scaled = pd.DataFrame(minmax_scaled, \n",
        "    columns=['Attitude', 'Score'])\n",
        "\n",
        "\n",
        "studentsDF_minmax_scaled\n",
        "\n"
      ],
      "metadata": {
        "colab": {
          "base_uri": "https://localhost:8080/",
          "height": 363
        },
        "id": "-hNBWHPmYNW0",
        "outputId": "5eefbd38-eb07-4bbf-8dc6-95d3252660e0"
      },
      "execution_count": 101,
      "outputs": [
        {
          "output_type": "execute_result",
          "data": {
            "text/html": [
              "\n",
              "  <div id=\"df-d447f0a0-172b-4119-a5a7-02f78d0edcc2\">\n",
              "    <div class=\"colab-df-container\">\n",
              "      <div>\n",
              "<style scoped>\n",
              "    .dataframe tbody tr th:only-of-type {\n",
              "        vertical-align: middle;\n",
              "    }\n",
              "\n",
              "    .dataframe tbody tr th {\n",
              "        vertical-align: top;\n",
              "    }\n",
              "\n",
              "    .dataframe thead th {\n",
              "        text-align: right;\n",
              "    }\n",
              "</style>\n",
              "<table border=\"1\" class=\"dataframe\">\n",
              "  <thead>\n",
              "    <tr style=\"text-align: right;\">\n",
              "      <th></th>\n",
              "      <th>Attitude</th>\n",
              "      <th>Score</th>\n",
              "    </tr>\n",
              "  </thead>\n",
              "  <tbody>\n",
              "    <tr>\n",
              "      <th>0</th>\n",
              "      <td>0.0</td>\n",
              "      <td>0.040000</td>\n",
              "    </tr>\n",
              "    <tr>\n",
              "      <th>1</th>\n",
              "      <td>0.2</td>\n",
              "      <td>0.000000</td>\n",
              "    </tr>\n",
              "    <tr>\n",
              "      <th>2</th>\n",
              "      <td>0.3</td>\n",
              "      <td>0.226667</td>\n",
              "    </tr>\n",
              "    <tr>\n",
              "      <th>3</th>\n",
              "      <td>0.5</td>\n",
              "      <td>0.400000</td>\n",
              "    </tr>\n",
              "    <tr>\n",
              "      <th>4</th>\n",
              "      <td>0.6</td>\n",
              "      <td>0.466667</td>\n",
              "    </tr>\n",
              "    <tr>\n",
              "      <th>5</th>\n",
              "      <td>0.7</td>\n",
              "      <td>0.426667</td>\n",
              "    </tr>\n",
              "    <tr>\n",
              "      <th>6</th>\n",
              "      <td>0.7</td>\n",
              "      <td>0.560000</td>\n",
              "    </tr>\n",
              "    <tr>\n",
              "      <th>7</th>\n",
              "      <td>0.8</td>\n",
              "      <td>0.533333</td>\n",
              "    </tr>\n",
              "    <tr>\n",
              "      <th>8</th>\n",
              "      <td>0.8</td>\n",
              "      <td>0.746667</td>\n",
              "    </tr>\n",
              "    <tr>\n",
              "      <th>9</th>\n",
              "      <td>1.0</td>\n",
              "      <td>1.000000</td>\n",
              "    </tr>\n",
              "  </tbody>\n",
              "</table>\n",
              "</div>\n",
              "      <button class=\"colab-df-convert\" onclick=\"convertToInteractive('df-d447f0a0-172b-4119-a5a7-02f78d0edcc2')\"\n",
              "              title=\"Convert this dataframe to an interactive table.\"\n",
              "              style=\"display:none;\">\n",
              "        \n",
              "  <svg xmlns=\"http://www.w3.org/2000/svg\" height=\"24px\"viewBox=\"0 0 24 24\"\n",
              "       width=\"24px\">\n",
              "    <path d=\"M0 0h24v24H0V0z\" fill=\"none\"/>\n",
              "    <path d=\"M18.56 5.44l.94 2.06.94-2.06 2.06-.94-2.06-.94-.94-2.06-.94 2.06-2.06.94zm-11 1L8.5 8.5l.94-2.06 2.06-.94-2.06-.94L8.5 2.5l-.94 2.06-2.06.94zm10 10l.94 2.06.94-2.06 2.06-.94-2.06-.94-.94-2.06-.94 2.06-2.06.94z\"/><path d=\"M17.41 7.96l-1.37-1.37c-.4-.4-.92-.59-1.43-.59-.52 0-1.04.2-1.43.59L10.3 9.45l-7.72 7.72c-.78.78-.78 2.05 0 2.83L4 21.41c.39.39.9.59 1.41.59.51 0 1.02-.2 1.41-.59l7.78-7.78 2.81-2.81c.8-.78.8-2.07 0-2.86zM5.41 20L4 18.59l7.72-7.72 1.47 1.35L5.41 20z\"/>\n",
              "  </svg>\n",
              "      </button>\n",
              "      \n",
              "  <style>\n",
              "    .colab-df-container {\n",
              "      display:flex;\n",
              "      flex-wrap:wrap;\n",
              "      gap: 12px;\n",
              "    }\n",
              "\n",
              "    .colab-df-convert {\n",
              "      background-color: #E8F0FE;\n",
              "      border: none;\n",
              "      border-radius: 50%;\n",
              "      cursor: pointer;\n",
              "      display: none;\n",
              "      fill: #1967D2;\n",
              "      height: 32px;\n",
              "      padding: 0 0 0 0;\n",
              "      width: 32px;\n",
              "    }\n",
              "\n",
              "    .colab-df-convert:hover {\n",
              "      background-color: #E2EBFA;\n",
              "      box-shadow: 0px 1px 2px rgba(60, 64, 67, 0.3), 0px 1px 3px 1px rgba(60, 64, 67, 0.15);\n",
              "      fill: #174EA6;\n",
              "    }\n",
              "\n",
              "    [theme=dark] .colab-df-convert {\n",
              "      background-color: #3B4455;\n",
              "      fill: #D2E3FC;\n",
              "    }\n",
              "\n",
              "    [theme=dark] .colab-df-convert:hover {\n",
              "      background-color: #434B5C;\n",
              "      box-shadow: 0px 1px 3px 1px rgba(0, 0, 0, 0.15);\n",
              "      filter: drop-shadow(0px 1px 2px rgba(0, 0, 0, 0.3));\n",
              "      fill: #FFFFFF;\n",
              "    }\n",
              "  </style>\n",
              "\n",
              "      <script>\n",
              "        const buttonEl =\n",
              "          document.querySelector('#df-d447f0a0-172b-4119-a5a7-02f78d0edcc2 button.colab-df-convert');\n",
              "        buttonEl.style.display =\n",
              "          google.colab.kernel.accessAllowed ? 'block' : 'none';\n",
              "\n",
              "        async function convertToInteractive(key) {\n",
              "          const element = document.querySelector('#df-d447f0a0-172b-4119-a5a7-02f78d0edcc2');\n",
              "          const dataTable =\n",
              "            await google.colab.kernel.invokeFunction('convertToInteractive',\n",
              "                                                     [key], {});\n",
              "          if (!dataTable) return;\n",
              "\n",
              "          const docLinkHtml = 'Like what you see? Visit the ' +\n",
              "            '<a target=\"_blank\" href=https://colab.research.google.com/notebooks/data_table.ipynb>data table notebook</a>'\n",
              "            + ' to learn more about interactive tables.';\n",
              "          element.innerHTML = '';\n",
              "          dataTable['output_type'] = 'display_data';\n",
              "          await google.colab.output.renderOutput(dataTable, element);\n",
              "          const docLink = document.createElement('div');\n",
              "          docLink.innerHTML = docLinkHtml;\n",
              "          element.appendChild(docLink);\n",
              "        }\n",
              "      </script>\n",
              "    </div>\n",
              "  </div>\n",
              "  "
            ],
            "text/plain": [
              "   Attitude     Score\n",
              "0       0.0  0.040000\n",
              "1       0.2  0.000000\n",
              "2       0.3  0.226667\n",
              "3       0.5  0.400000\n",
              "4       0.6  0.466667\n",
              "5       0.7  0.426667\n",
              "6       0.7  0.560000\n",
              "7       0.8  0.533333\n",
              "8       0.8  0.746667\n",
              "9       1.0  1.000000"
            ]
          },
          "metadata": {},
          "execution_count": 101
        }
      ]
    },
    {
      "cell_type": "code",
      "source": [
        "# Let's examine the correlatrion matrix again\n",
        "\n",
        "studentsDF_minmax_scaled.corr()\n",
        "\n"
      ],
      "metadata": {
        "colab": {
          "base_uri": "https://localhost:8080/",
          "height": 112
        },
        "id": "6OK2Izj9ZlH5",
        "outputId": "00559f53-6454-4dd9-9024-72016337c306"
      },
      "execution_count": 103,
      "outputs": [
        {
          "output_type": "execute_result",
          "data": {
            "text/html": [
              "\n",
              "  <div id=\"df-317e573c-7dda-4ba1-a5fe-67bc59e095ba\">\n",
              "    <div class=\"colab-df-container\">\n",
              "      <div>\n",
              "<style scoped>\n",
              "    .dataframe tbody tr th:only-of-type {\n",
              "        vertical-align: middle;\n",
              "    }\n",
              "\n",
              "    .dataframe tbody tr th {\n",
              "        vertical-align: top;\n",
              "    }\n",
              "\n",
              "    .dataframe thead th {\n",
              "        text-align: right;\n",
              "    }\n",
              "</style>\n",
              "<table border=\"1\" class=\"dataframe\">\n",
              "  <thead>\n",
              "    <tr style=\"text-align: right;\">\n",
              "      <th></th>\n",
              "      <th>Attitude</th>\n",
              "      <th>Score</th>\n",
              "    </tr>\n",
              "  </thead>\n",
              "  <tbody>\n",
              "    <tr>\n",
              "      <th>Attitude</th>\n",
              "      <td>1.00000</td>\n",
              "      <td>0.94179</td>\n",
              "    </tr>\n",
              "    <tr>\n",
              "      <th>Score</th>\n",
              "      <td>0.94179</td>\n",
              "      <td>1.00000</td>\n",
              "    </tr>\n",
              "  </tbody>\n",
              "</table>\n",
              "</div>\n",
              "      <button class=\"colab-df-convert\" onclick=\"convertToInteractive('df-317e573c-7dda-4ba1-a5fe-67bc59e095ba')\"\n",
              "              title=\"Convert this dataframe to an interactive table.\"\n",
              "              style=\"display:none;\">\n",
              "        \n",
              "  <svg xmlns=\"http://www.w3.org/2000/svg\" height=\"24px\"viewBox=\"0 0 24 24\"\n",
              "       width=\"24px\">\n",
              "    <path d=\"M0 0h24v24H0V0z\" fill=\"none\"/>\n",
              "    <path d=\"M18.56 5.44l.94 2.06.94-2.06 2.06-.94-2.06-.94-.94-2.06-.94 2.06-2.06.94zm-11 1L8.5 8.5l.94-2.06 2.06-.94-2.06-.94L8.5 2.5l-.94 2.06-2.06.94zm10 10l.94 2.06.94-2.06 2.06-.94-2.06-.94-.94-2.06-.94 2.06-2.06.94z\"/><path d=\"M17.41 7.96l-1.37-1.37c-.4-.4-.92-.59-1.43-.59-.52 0-1.04.2-1.43.59L10.3 9.45l-7.72 7.72c-.78.78-.78 2.05 0 2.83L4 21.41c.39.39.9.59 1.41.59.51 0 1.02-.2 1.41-.59l7.78-7.78 2.81-2.81c.8-.78.8-2.07 0-2.86zM5.41 20L4 18.59l7.72-7.72 1.47 1.35L5.41 20z\"/>\n",
              "  </svg>\n",
              "      </button>\n",
              "      \n",
              "  <style>\n",
              "    .colab-df-container {\n",
              "      display:flex;\n",
              "      flex-wrap:wrap;\n",
              "      gap: 12px;\n",
              "    }\n",
              "\n",
              "    .colab-df-convert {\n",
              "      background-color: #E8F0FE;\n",
              "      border: none;\n",
              "      border-radius: 50%;\n",
              "      cursor: pointer;\n",
              "      display: none;\n",
              "      fill: #1967D2;\n",
              "      height: 32px;\n",
              "      padding: 0 0 0 0;\n",
              "      width: 32px;\n",
              "    }\n",
              "\n",
              "    .colab-df-convert:hover {\n",
              "      background-color: #E2EBFA;\n",
              "      box-shadow: 0px 1px 2px rgba(60, 64, 67, 0.3), 0px 1px 3px 1px rgba(60, 64, 67, 0.15);\n",
              "      fill: #174EA6;\n",
              "    }\n",
              "\n",
              "    [theme=dark] .colab-df-convert {\n",
              "      background-color: #3B4455;\n",
              "      fill: #D2E3FC;\n",
              "    }\n",
              "\n",
              "    [theme=dark] .colab-df-convert:hover {\n",
              "      background-color: #434B5C;\n",
              "      box-shadow: 0px 1px 3px 1px rgba(0, 0, 0, 0.15);\n",
              "      filter: drop-shadow(0px 1px 2px rgba(0, 0, 0, 0.3));\n",
              "      fill: #FFFFFF;\n",
              "    }\n",
              "  </style>\n",
              "\n",
              "      <script>\n",
              "        const buttonEl =\n",
              "          document.querySelector('#df-317e573c-7dda-4ba1-a5fe-67bc59e095ba button.colab-df-convert');\n",
              "        buttonEl.style.display =\n",
              "          google.colab.kernel.accessAllowed ? 'block' : 'none';\n",
              "\n",
              "        async function convertToInteractive(key) {\n",
              "          const element = document.querySelector('#df-317e573c-7dda-4ba1-a5fe-67bc59e095ba');\n",
              "          const dataTable =\n",
              "            await google.colab.kernel.invokeFunction('convertToInteractive',\n",
              "                                                     [key], {});\n",
              "          if (!dataTable) return;\n",
              "\n",
              "          const docLinkHtml = 'Like what you see? Visit the ' +\n",
              "            '<a target=\"_blank\" href=https://colab.research.google.com/notebooks/data_table.ipynb>data table notebook</a>'\n",
              "            + ' to learn more about interactive tables.';\n",
              "          element.innerHTML = '';\n",
              "          dataTable['output_type'] = 'display_data';\n",
              "          await google.colab.output.renderOutput(dataTable, element);\n",
              "          const docLink = document.createElement('div');\n",
              "          docLink.innerHTML = docLinkHtml;\n",
              "          element.appendChild(docLink);\n",
              "        }\n",
              "      </script>\n",
              "    </div>\n",
              "  </div>\n",
              "  "
            ],
            "text/plain": [
              "          Attitude    Score\n",
              "Attitude   1.00000  0.94179\n",
              "Score      0.94179  1.00000"
            ]
          },
          "metadata": {},
          "execution_count": 103
        }
      ]
    },
    {
      "cell_type": "markdown",
      "source": [
        "### **StandardScaling**\n",
        "\n"
      ],
      "metadata": {
        "id": "WTddeGi1Z0r_"
      }
    },
    {
      "cell_type": "code",
      "source": [
        "from sklearn.preprocessing import StandardScaler\n",
        "\n",
        "scaler = StandardScaler()\n",
        "\n",
        "standard_scaled = scaler.fit_transform(studentsDF)\n",
        "\n",
        "\n",
        "studentsDF_standard_scaled = pd.DataFrame(standard_scaled, \n",
        "    columns=['Attitude', 'Score'])\n",
        "\n",
        "\n",
        "studentsDF_standard_scaled"
      ],
      "metadata": {
        "colab": {
          "base_uri": "https://localhost:8080/",
          "height": 363
        },
        "id": "NSMo0Hw1Z45u",
        "outputId": "68728ede-afd5-4a04-9f50-15dae35c9d32"
      },
      "execution_count": 115,
      "outputs": [
        {
          "output_type": "execute_result",
          "data": {
            "text/html": [
              "\n",
              "  <div id=\"df-5e2bc012-ab3b-4223-95b7-e353c40a8e76\">\n",
              "    <div class=\"colab-df-container\">\n",
              "      <div>\n",
              "<style scoped>\n",
              "    .dataframe tbody tr th:only-of-type {\n",
              "        vertical-align: middle;\n",
              "    }\n",
              "\n",
              "    .dataframe tbody tr th {\n",
              "        vertical-align: top;\n",
              "    }\n",
              "\n",
              "    .dataframe thead th {\n",
              "        text-align: right;\n",
              "    }\n",
              "</style>\n",
              "<table border=\"1\" class=\"dataframe\">\n",
              "  <thead>\n",
              "    <tr style=\"text-align: right;\">\n",
              "      <th></th>\n",
              "      <th>Attitude</th>\n",
              "      <th>Score</th>\n",
              "    </tr>\n",
              "  </thead>\n",
              "  <tbody>\n",
              "    <tr>\n",
              "      <th>0</th>\n",
              "      <td>-1.905159</td>\n",
              "      <td>-1.386454</td>\n",
              "    </tr>\n",
              "    <tr>\n",
              "      <th>1</th>\n",
              "      <td>-1.224745</td>\n",
              "      <td>-1.525100</td>\n",
              "    </tr>\n",
              "    <tr>\n",
              "      <th>2</th>\n",
              "      <td>-0.884538</td>\n",
              "      <td>-0.739442</td>\n",
              "    </tr>\n",
              "    <tr>\n",
              "      <th>3</th>\n",
              "      <td>-0.204124</td>\n",
              "      <td>-0.138645</td>\n",
              "    </tr>\n",
              "    <tr>\n",
              "      <th>4</th>\n",
              "      <td>0.136083</td>\n",
              "      <td>0.092430</td>\n",
              "    </tr>\n",
              "    <tr>\n",
              "      <th>5</th>\n",
              "      <td>0.476290</td>\n",
              "      <td>-0.046215</td>\n",
              "    </tr>\n",
              "    <tr>\n",
              "      <th>6</th>\n",
              "      <td>0.476290</td>\n",
              "      <td>0.415936</td>\n",
              "    </tr>\n",
              "    <tr>\n",
              "      <th>7</th>\n",
              "      <td>0.816497</td>\n",
              "      <td>0.323506</td>\n",
              "    </tr>\n",
              "    <tr>\n",
              "      <th>8</th>\n",
              "      <td>0.816497</td>\n",
              "      <td>1.062948</td>\n",
              "    </tr>\n",
              "    <tr>\n",
              "      <th>9</th>\n",
              "      <td>1.496910</td>\n",
              "      <td>1.941036</td>\n",
              "    </tr>\n",
              "  </tbody>\n",
              "</table>\n",
              "</div>\n",
              "      <button class=\"colab-df-convert\" onclick=\"convertToInteractive('df-5e2bc012-ab3b-4223-95b7-e353c40a8e76')\"\n",
              "              title=\"Convert this dataframe to an interactive table.\"\n",
              "              style=\"display:none;\">\n",
              "        \n",
              "  <svg xmlns=\"http://www.w3.org/2000/svg\" height=\"24px\"viewBox=\"0 0 24 24\"\n",
              "       width=\"24px\">\n",
              "    <path d=\"M0 0h24v24H0V0z\" fill=\"none\"/>\n",
              "    <path d=\"M18.56 5.44l.94 2.06.94-2.06 2.06-.94-2.06-.94-.94-2.06-.94 2.06-2.06.94zm-11 1L8.5 8.5l.94-2.06 2.06-.94-2.06-.94L8.5 2.5l-.94 2.06-2.06.94zm10 10l.94 2.06.94-2.06 2.06-.94-2.06-.94-.94-2.06-.94 2.06-2.06.94z\"/><path d=\"M17.41 7.96l-1.37-1.37c-.4-.4-.92-.59-1.43-.59-.52 0-1.04.2-1.43.59L10.3 9.45l-7.72 7.72c-.78.78-.78 2.05 0 2.83L4 21.41c.39.39.9.59 1.41.59.51 0 1.02-.2 1.41-.59l7.78-7.78 2.81-2.81c.8-.78.8-2.07 0-2.86zM5.41 20L4 18.59l7.72-7.72 1.47 1.35L5.41 20z\"/>\n",
              "  </svg>\n",
              "      </button>\n",
              "      \n",
              "  <style>\n",
              "    .colab-df-container {\n",
              "      display:flex;\n",
              "      flex-wrap:wrap;\n",
              "      gap: 12px;\n",
              "    }\n",
              "\n",
              "    .colab-df-convert {\n",
              "      background-color: #E8F0FE;\n",
              "      border: none;\n",
              "      border-radius: 50%;\n",
              "      cursor: pointer;\n",
              "      display: none;\n",
              "      fill: #1967D2;\n",
              "      height: 32px;\n",
              "      padding: 0 0 0 0;\n",
              "      width: 32px;\n",
              "    }\n",
              "\n",
              "    .colab-df-convert:hover {\n",
              "      background-color: #E2EBFA;\n",
              "      box-shadow: 0px 1px 2px rgba(60, 64, 67, 0.3), 0px 1px 3px 1px rgba(60, 64, 67, 0.15);\n",
              "      fill: #174EA6;\n",
              "    }\n",
              "\n",
              "    [theme=dark] .colab-df-convert {\n",
              "      background-color: #3B4455;\n",
              "      fill: #D2E3FC;\n",
              "    }\n",
              "\n",
              "    [theme=dark] .colab-df-convert:hover {\n",
              "      background-color: #434B5C;\n",
              "      box-shadow: 0px 1px 3px 1px rgba(0, 0, 0, 0.15);\n",
              "      filter: drop-shadow(0px 1px 2px rgba(0, 0, 0, 0.3));\n",
              "      fill: #FFFFFF;\n",
              "    }\n",
              "  </style>\n",
              "\n",
              "      <script>\n",
              "        const buttonEl =\n",
              "          document.querySelector('#df-5e2bc012-ab3b-4223-95b7-e353c40a8e76 button.colab-df-convert');\n",
              "        buttonEl.style.display =\n",
              "          google.colab.kernel.accessAllowed ? 'block' : 'none';\n",
              "\n",
              "        async function convertToInteractive(key) {\n",
              "          const element = document.querySelector('#df-5e2bc012-ab3b-4223-95b7-e353c40a8e76');\n",
              "          const dataTable =\n",
              "            await google.colab.kernel.invokeFunction('convertToInteractive',\n",
              "                                                     [key], {});\n",
              "          if (!dataTable) return;\n",
              "\n",
              "          const docLinkHtml = 'Like what you see? Visit the ' +\n",
              "            '<a target=\"_blank\" href=https://colab.research.google.com/notebooks/data_table.ipynb>data table notebook</a>'\n",
              "            + ' to learn more about interactive tables.';\n",
              "          element.innerHTML = '';\n",
              "          dataTable['output_type'] = 'display_data';\n",
              "          await google.colab.output.renderOutput(dataTable, element);\n",
              "          const docLink = document.createElement('div');\n",
              "          docLink.innerHTML = docLinkHtml;\n",
              "          element.appendChild(docLink);\n",
              "        }\n",
              "      </script>\n",
              "    </div>\n",
              "  </div>\n",
              "  "
            ],
            "text/plain": [
              "   Attitude     Score\n",
              "0 -1.905159 -1.386454\n",
              "1 -1.224745 -1.525100\n",
              "2 -0.884538 -0.739442\n",
              "3 -0.204124 -0.138645\n",
              "4  0.136083  0.092430\n",
              "5  0.476290 -0.046215\n",
              "6  0.476290  0.415936\n",
              "7  0.816497  0.323506\n",
              "8  0.816497  1.062948\n",
              "9  1.496910  1.941036"
            ]
          },
          "metadata": {},
          "execution_count": 115
        }
      ]
    },
    {
      "cell_type": "code",
      "source": [
        "# Standard scaler shifts the means to or near to zero\n",
        "\n",
        "m1 = studentsDF_standard_scaled['Attitude'].mean()\n",
        "m2 = studentsDF_standard_scaled['Score'].mean()\n",
        "\n",
        "print(\"The new shifted means: %6.6f and %6.6f\" % (m1, m2))\n",
        "\n"
      ],
      "metadata": {
        "colab": {
          "base_uri": "https://localhost:8080/"
        },
        "id": "-Cwol2EHaV3J",
        "outputId": "04fb1b00-c828-44f4-ac9c-9e9e79341ff0"
      },
      "execution_count": 116,
      "outputs": [
        {
          "output_type": "stream",
          "name": "stdout",
          "text": [
            "The new shifted means: 0.000000 and 0.000000\n"
          ]
        }
      ]
    },
    {
      "cell_type": "code",
      "source": [
        "# Let's examine the correlatrion matrix again\n",
        "\n",
        "studentsDF_standard_scaled.corr()\n",
        "\n",
        "\n"
      ],
      "metadata": {
        "colab": {
          "base_uri": "https://localhost:8080/",
          "height": 112
        },
        "id": "VJ2wqoIVaF4_",
        "outputId": "5b7abef1-8c13-471d-86a3-4732f65b5268"
      },
      "execution_count": 117,
      "outputs": [
        {
          "output_type": "execute_result",
          "data": {
            "text/html": [
              "\n",
              "  <div id=\"df-0002664a-3d99-4c73-8f26-7568042c830b\">\n",
              "    <div class=\"colab-df-container\">\n",
              "      <div>\n",
              "<style scoped>\n",
              "    .dataframe tbody tr th:only-of-type {\n",
              "        vertical-align: middle;\n",
              "    }\n",
              "\n",
              "    .dataframe tbody tr th {\n",
              "        vertical-align: top;\n",
              "    }\n",
              "\n",
              "    .dataframe thead th {\n",
              "        text-align: right;\n",
              "    }\n",
              "</style>\n",
              "<table border=\"1\" class=\"dataframe\">\n",
              "  <thead>\n",
              "    <tr style=\"text-align: right;\">\n",
              "      <th></th>\n",
              "      <th>Attitude</th>\n",
              "      <th>Score</th>\n",
              "    </tr>\n",
              "  </thead>\n",
              "  <tbody>\n",
              "    <tr>\n",
              "      <th>Attitude</th>\n",
              "      <td>1.00000</td>\n",
              "      <td>0.94179</td>\n",
              "    </tr>\n",
              "    <tr>\n",
              "      <th>Score</th>\n",
              "      <td>0.94179</td>\n",
              "      <td>1.00000</td>\n",
              "    </tr>\n",
              "  </tbody>\n",
              "</table>\n",
              "</div>\n",
              "      <button class=\"colab-df-convert\" onclick=\"convertToInteractive('df-0002664a-3d99-4c73-8f26-7568042c830b')\"\n",
              "              title=\"Convert this dataframe to an interactive table.\"\n",
              "              style=\"display:none;\">\n",
              "        \n",
              "  <svg xmlns=\"http://www.w3.org/2000/svg\" height=\"24px\"viewBox=\"0 0 24 24\"\n",
              "       width=\"24px\">\n",
              "    <path d=\"M0 0h24v24H0V0z\" fill=\"none\"/>\n",
              "    <path d=\"M18.56 5.44l.94 2.06.94-2.06 2.06-.94-2.06-.94-.94-2.06-.94 2.06-2.06.94zm-11 1L8.5 8.5l.94-2.06 2.06-.94-2.06-.94L8.5 2.5l-.94 2.06-2.06.94zm10 10l.94 2.06.94-2.06 2.06-.94-2.06-.94-.94-2.06-.94 2.06-2.06.94z\"/><path d=\"M17.41 7.96l-1.37-1.37c-.4-.4-.92-.59-1.43-.59-.52 0-1.04.2-1.43.59L10.3 9.45l-7.72 7.72c-.78.78-.78 2.05 0 2.83L4 21.41c.39.39.9.59 1.41.59.51 0 1.02-.2 1.41-.59l7.78-7.78 2.81-2.81c.8-.78.8-2.07 0-2.86zM5.41 20L4 18.59l7.72-7.72 1.47 1.35L5.41 20z\"/>\n",
              "  </svg>\n",
              "      </button>\n",
              "      \n",
              "  <style>\n",
              "    .colab-df-container {\n",
              "      display:flex;\n",
              "      flex-wrap:wrap;\n",
              "      gap: 12px;\n",
              "    }\n",
              "\n",
              "    .colab-df-convert {\n",
              "      background-color: #E8F0FE;\n",
              "      border: none;\n",
              "      border-radius: 50%;\n",
              "      cursor: pointer;\n",
              "      display: none;\n",
              "      fill: #1967D2;\n",
              "      height: 32px;\n",
              "      padding: 0 0 0 0;\n",
              "      width: 32px;\n",
              "    }\n",
              "\n",
              "    .colab-df-convert:hover {\n",
              "      background-color: #E2EBFA;\n",
              "      box-shadow: 0px 1px 2px rgba(60, 64, 67, 0.3), 0px 1px 3px 1px rgba(60, 64, 67, 0.15);\n",
              "      fill: #174EA6;\n",
              "    }\n",
              "\n",
              "    [theme=dark] .colab-df-convert {\n",
              "      background-color: #3B4455;\n",
              "      fill: #D2E3FC;\n",
              "    }\n",
              "\n",
              "    [theme=dark] .colab-df-convert:hover {\n",
              "      background-color: #434B5C;\n",
              "      box-shadow: 0px 1px 3px 1px rgba(0, 0, 0, 0.15);\n",
              "      filter: drop-shadow(0px 1px 2px rgba(0, 0, 0, 0.3));\n",
              "      fill: #FFFFFF;\n",
              "    }\n",
              "  </style>\n",
              "\n",
              "      <script>\n",
              "        const buttonEl =\n",
              "          document.querySelector('#df-0002664a-3d99-4c73-8f26-7568042c830b button.colab-df-convert');\n",
              "        buttonEl.style.display =\n",
              "          google.colab.kernel.accessAllowed ? 'block' : 'none';\n",
              "\n",
              "        async function convertToInteractive(key) {\n",
              "          const element = document.querySelector('#df-0002664a-3d99-4c73-8f26-7568042c830b');\n",
              "          const dataTable =\n",
              "            await google.colab.kernel.invokeFunction('convertToInteractive',\n",
              "                                                     [key], {});\n",
              "          if (!dataTable) return;\n",
              "\n",
              "          const docLinkHtml = 'Like what you see? Visit the ' +\n",
              "            '<a target=\"_blank\" href=https://colab.research.google.com/notebooks/data_table.ipynb>data table notebook</a>'\n",
              "            + ' to learn more about interactive tables.';\n",
              "          element.innerHTML = '';\n",
              "          dataTable['output_type'] = 'display_data';\n",
              "          await google.colab.output.renderOutput(dataTable, element);\n",
              "          const docLink = document.createElement('div');\n",
              "          docLink.innerHTML = docLinkHtml;\n",
              "          element.appendChild(docLink);\n",
              "        }\n",
              "      </script>\n",
              "    </div>\n",
              "  </div>\n",
              "  "
            ],
            "text/plain": [
              "          Attitude    Score\n",
              "Attitude   1.00000  0.94179\n",
              "Score      0.94179  1.00000"
            ]
          },
          "metadata": {},
          "execution_count": 117
        }
      ]
    }
  ]
}